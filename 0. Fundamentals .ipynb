{
 "cells": [
  {
   "cell_type": "code",
   "execution_count": 1,
   "id": "32f128fc",
   "metadata": {
    "ExecuteTime": {
     "end_time": "2023-02-14T21:27:19.978036Z",
     "start_time": "2023-02-14T21:27:19.111711Z"
    }
   },
   "outputs": [],
   "source": [
    "import torch\n",
    "import pandas as pd\n",
    "import numpy as np\n",
    "import matplotlib.pyplot as plt"
   ]
  },
  {
   "cell_type": "code",
   "execution_count": 2,
   "id": "2298d078",
   "metadata": {
    "ExecuteTime": {
     "end_time": "2023-02-14T21:26:28.093297Z",
     "start_time": "2023-02-14T21:26:28.083524Z"
    }
   },
   "outputs": [
    {
     "name": "stdout",
     "output_type": "stream",
     "text": [
      "1.14.0.dev20221102\n"
     ]
    }
   ],
   "source": [
    "print (torch.__version__)"
   ]
  },
  {
   "cell_type": "code",
   "execution_count": 3,
   "id": "a9e61719",
   "metadata": {
    "ExecuteTime": {
     "end_time": "2023-02-14T21:31:53.370265Z",
     "start_time": "2023-02-14T21:31:53.347455Z"
    }
   },
   "outputs": [
    {
     "data": {
      "text/plain": [
       "tensor(7)"
      ]
     },
     "execution_count": 3,
     "metadata": {},
     "output_type": "execute_result"
    }
   ],
   "source": [
    "#scalar\n",
    "scalar = torch.tensor(7)\n",
    "scalar"
   ]
  },
  {
   "cell_type": "code",
   "execution_count": 4,
   "id": "2ed128be",
   "metadata": {
    "ExecuteTime": {
     "end_time": "2023-02-15T21:47:03.892741Z",
     "start_time": "2023-02-15T21:47:03.883121Z"
    }
   },
   "outputs": [
    {
     "data": {
      "text/plain": [
       "0"
      ]
     },
     "execution_count": 4,
     "metadata": {},
     "output_type": "execute_result"
    }
   ],
   "source": [
    "#show the dimensions of the scalar\n",
    "#shwos the number of dimensions\n",
    "scalar.ndim"
   ]
  },
  {
   "cell_type": "code",
   "execution_count": 5,
   "id": "01eff2d4",
   "metadata": {
    "ExecuteTime": {
     "end_time": "2023-02-14T21:35:06.283716Z",
     "start_time": "2023-02-14T21:35:06.274823Z"
    }
   },
   "outputs": [
    {
     "data": {
      "text/plain": [
       "7"
      ]
     },
     "execution_count": 5,
     "metadata": {},
     "output_type": "execute_result"
    }
   ],
   "source": [
    "#method that we can use to get the item of the scalar\n",
    "scalar.item()"
   ]
  },
  {
   "cell_type": "code",
   "execution_count": 6,
   "id": "0534b20b",
   "metadata": {
    "ExecuteTime": {
     "end_time": "2023-02-14T21:36:38.836828Z",
     "start_time": "2023-02-14T21:36:38.825886Z"
    }
   },
   "outputs": [
    {
     "data": {
      "text/plain": [
       "1"
      ]
     },
     "execution_count": 6,
     "metadata": {},
     "output_type": "execute_result"
    }
   ],
   "source": [
    "#create a pytorch vector\n",
    "\n",
    "vector = torch.tensor([7,7])\n",
    "vector.ndim\n"
   ]
  },
  {
   "cell_type": "code",
   "execution_count": 7,
   "id": "23ec4c7c",
   "metadata": {
    "ExecuteTime": {
     "end_time": "2023-02-14T21:36:39.068413Z",
     "start_time": "2023-02-14T21:36:39.058385Z"
    }
   },
   "outputs": [
    {
     "data": {
      "text/plain": [
       "torch.Size([2])"
      ]
     },
     "execution_count": 7,
     "metadata": {},
     "output_type": "execute_result"
    }
   ],
   "source": [
    "vector.shape"
   ]
  },
  {
   "cell_type": "code",
   "execution_count": 8,
   "id": "09750b04",
   "metadata": {
    "ExecuteTime": {
     "end_time": "2023-02-14T21:38:09.764265Z",
     "start_time": "2023-02-14T21:38:09.748827Z"
    }
   },
   "outputs": [
    {
     "data": {
      "text/plain": [
       "tensor([[2, 3],\n",
       "        [4, 5]])"
      ]
     },
     "execution_count": 8,
     "metadata": {},
     "output_type": "execute_result"
    }
   ],
   "source": [
    "#create a matrix\n",
    "matrix = torch.tensor([[2,3],\n",
    "                       [4,5]])\n",
    "matrix"
   ]
  },
  {
   "cell_type": "code",
   "execution_count": 9,
   "id": "1717f87b",
   "metadata": {
    "ExecuteTime": {
     "end_time": "2023-02-14T21:38:18.791084Z",
     "start_time": "2023-02-14T21:38:18.781509Z"
    }
   },
   "outputs": [
    {
     "data": {
      "text/plain": [
       "torch.Size([2, 2])"
      ]
     },
     "execution_count": 9,
     "metadata": {},
     "output_type": "execute_result"
    }
   ],
   "source": [
    "matrix.shape"
   ]
  },
  {
   "cell_type": "code",
   "execution_count": 10,
   "id": "42146b4f",
   "metadata": {
    "ExecuteTime": {
     "end_time": "2023-02-14T21:39:14.831464Z",
     "start_time": "2023-02-14T21:39:14.821254Z"
    }
   },
   "outputs": [
    {
     "data": {
      "text/plain": [
       "2"
      ]
     },
     "execution_count": 10,
     "metadata": {},
     "output_type": "execute_result"
    }
   ],
   "source": [
    "matrix.ndim"
   ]
  },
  {
   "cell_type": "code",
   "execution_count": 11,
   "id": "32a3734c",
   "metadata": {
    "ExecuteTime": {
     "end_time": "2023-02-14T21:39:26.275129Z",
     "start_time": "2023-02-14T21:39:26.264473Z"
    }
   },
   "outputs": [
    {
     "data": {
      "text/plain": [
       "tensor([4, 5])"
      ]
     },
     "execution_count": 11,
     "metadata": {},
     "output_type": "execute_result"
    }
   ],
   "source": [
    "#what does ndim do\n",
    "matrix[1]"
   ]
  },
  {
   "cell_type": "code",
   "execution_count": 12,
   "id": "8ec979a6",
   "metadata": {
    "ExecuteTime": {
     "end_time": "2023-02-14T21:41:46.884242Z",
     "start_time": "2023-02-14T21:41:46.870728Z"
    }
   },
   "outputs": [
    {
     "data": {
      "text/plain": [
       "tensor([[[1, 2, 3],\n",
       "         [3, 4, 5],\n",
       "         [4, 5, 6]]])"
      ]
     },
     "execution_count": 12,
     "metadata": {},
     "output_type": "execute_result"
    }
   ],
   "source": [
    "#tensor\n",
    "tensor = torch.tensor([[[1,2,3],\n",
    "                        [3,4,5],\n",
    "                        [4,5,6]]])\n",
    "tensor"
   ]
  },
  {
   "cell_type": "code",
   "execution_count": 13,
   "id": "9572f792",
   "metadata": {
    "ExecuteTime": {
     "end_time": "2023-02-14T21:41:53.557069Z",
     "start_time": "2023-02-14T21:41:53.546570Z"
    }
   },
   "outputs": [
    {
     "data": {
      "text/plain": [
       "3"
      ]
     },
     "execution_count": 13,
     "metadata": {},
     "output_type": "execute_result"
    }
   ],
   "source": [
    "tensor.ndim"
   ]
  },
  {
   "cell_type": "code",
   "execution_count": 14,
   "id": "f566ce2d",
   "metadata": {
    "ExecuteTime": {
     "end_time": "2023-02-14T21:43:18.229203Z",
     "start_time": "2023-02-14T21:43:18.219655Z"
    }
   },
   "outputs": [
    {
     "data": {
      "text/plain": [
       "torch.Size([1, 3, 3])"
      ]
     },
     "execution_count": 14,
     "metadata": {},
     "output_type": "execute_result"
    }
   ],
   "source": [
    "tensor.shape\n",
    "#torch.Size([1, 3, 3]) we have a 1 tensor with a 3x3 matrix"
   ]
  },
  {
   "cell_type": "code",
   "execution_count": 15,
   "id": "a7e9d066",
   "metadata": {
    "ExecuteTime": {
     "end_time": "2023-02-15T21:45:04.468166Z",
     "start_time": "2023-02-15T21:45:04.423037Z"
    }
   },
   "outputs": [
    {
     "data": {
      "text/plain": [
       "tensor([[0.0958, 0.5126, 0.3351, 0.5521],\n",
       "        [0.0839, 0.9742, 0.8419, 0.0713],\n",
       "        [0.2194, 0.6972, 0.4526, 0.0919]])"
      ]
     },
     "execution_count": 15,
     "metadata": {},
     "output_type": "execute_result"
    }
   ],
   "source": [
    "###random Tensors\n",
    "#Create a random tensor of (3,4)\n",
    "rTensor = torch.rand(3,4)\n",
    "rTensor"
   ]
  },
  {
   "cell_type": "code",
   "execution_count": 16,
   "id": "7242fa0c",
   "metadata": {
    "ExecuteTime": {
     "end_time": "2023-02-15T21:50:27.417222Z",
     "start_time": "2023-02-15T21:50:27.407466Z"
    }
   },
   "outputs": [
    {
     "data": {
      "text/plain": [
       "tensor([[0., 0., 0., 0.],\n",
       "        [0., 0., 0., 0.],\n",
       "        [0., 0., 0., 0.]])"
      ]
     },
     "execution_count": 16,
     "metadata": {},
     "output_type": "execute_result"
    }
   ],
   "source": [
    "#create a 3,4 matrix with 0s\n",
    "zeroTensor = torch.zeros(3,4)\n",
    "zeroTensor"
   ]
  },
  {
   "cell_type": "code",
   "execution_count": 17,
   "id": "6c074928",
   "metadata": {
    "ExecuteTime": {
     "end_time": "2023-02-15T21:51:08.168706Z",
     "start_time": "2023-02-15T21:51:08.155608Z"
    }
   },
   "outputs": [
    {
     "data": {
      "text/plain": [
       "tensor([[1., 1., 1., 1.],\n",
       "        [1., 1., 1., 1.],\n",
       "        [1., 1., 1., 1.]])"
      ]
     },
     "execution_count": 17,
     "metadata": {},
     "output_type": "execute_result"
    }
   ],
   "source": [
    "#create a 3,4 matrix with 1s\n",
    "oneTensor = torch.ones(3,4)\n",
    "oneTensor"
   ]
  },
  {
   "cell_type": "code",
   "execution_count": 18,
   "id": "7bd3cb32",
   "metadata": {
    "ExecuteTime": {
     "end_time": "2023-02-15T21:52:43.149768Z",
     "start_time": "2023-02-15T21:52:43.140145Z"
    }
   },
   "outputs": [
    {
     "data": {
      "text/plain": [
       "torch.float32"
      ]
     },
     "execution_count": 18,
     "metadata": {},
     "output_type": "execute_result"
    }
   ],
   "source": [
    "#what is the data type\n",
    "oneTensor.dtype"
   ]
  },
  {
   "cell_type": "code",
   "execution_count": 19,
   "id": "7f61e09a",
   "metadata": {
    "ExecuteTime": {
     "end_time": "2023-02-16T11:23:16.579361Z",
     "start_time": "2023-02-16T11:23:16.565294Z"
    }
   },
   "outputs": [
    {
     "data": {
      "text/plain": [
       "tensor([0, 1, 2, 3, 4, 5, 6, 7, 8, 9])"
      ]
     },
     "execution_count": 19,
     "metadata": {},
     "output_type": "execute_result"
    }
   ],
   "source": [
    "# Creating a range of tensors and tensors like\n",
    "one_to_ten = torch.arange(0,10)\n",
    "one_to_ten\n",
    "\n"
   ]
  },
  {
   "cell_type": "code",
   "execution_count": 20,
   "id": "7641f9cd",
   "metadata": {
    "ExecuteTime": {
     "end_time": "2023-02-16T11:23:15.336728Z",
     "start_time": "2023-02-16T11:23:15.324563Z"
    }
   },
   "outputs": [
    {
     "data": {
      "text/plain": [
       "tensor([  0,  23,  46,  69,  92, 115, 138, 161, 184, 207, 230, 253, 276, 299,\n",
       "        322, 345, 368, 391, 414, 437, 460, 483, 506, 529, 552, 575, 598, 621,\n",
       "        644, 667, 690, 713, 736, 759, 782, 805, 828, 851, 874, 897, 920, 943,\n",
       "        966, 989])"
      ]
     },
     "execution_count": 20,
     "metadata": {},
     "output_type": "execute_result"
    }
   ],
   "source": [
    "start_end = torch.arange(start=0, end=1000, step=23)\n",
    "start_end"
   ]
  },
  {
   "cell_type": "code",
   "execution_count": 21,
   "id": "d567a079",
   "metadata": {
    "ExecuteTime": {
     "end_time": "2023-02-16T11:24:46.142130Z",
     "start_time": "2023-02-16T11:24:46.130727Z"
    }
   },
   "outputs": [
    {
     "data": {
      "text/plain": [
       "tensor([0, 0, 0, 0, 0, 0, 0, 0, 0, 0])"
      ]
     },
     "execution_count": 21,
     "metadata": {},
     "output_type": "execute_result"
    }
   ],
   "source": [
    "#create a tensor with teh same size as some else tensor\n",
    "like_tensor = torch.zeros_like(one_to_ten)\n",
    "like_tensor"
   ]
  },
  {
   "cell_type": "code",
   "execution_count": 22,
   "id": "45ba7b7e",
   "metadata": {
    "ExecuteTime": {
     "end_time": "2023-02-16T11:25:21.859776Z",
     "start_time": "2023-02-16T11:25:21.848882Z"
    }
   },
   "outputs": [
    {
     "data": {
      "text/plain": [
       "tensor([[[1, 1, 1],\n",
       "         [1, 1, 1],\n",
       "         [1, 1, 1]]])"
      ]
     },
     "execution_count": 22,
     "metadata": {},
     "output_type": "execute_result"
    }
   ],
   "source": [
    "like_tensor_ones_matrix = torch.ones_like(tensor)\n",
    "like_tensor_ones_matrix"
   ]
  },
  {
   "cell_type": "code",
   "execution_count": 23,
   "id": "203664de",
   "metadata": {
    "ExecuteTime": {
     "end_time": "2023-02-16T11:28:49.147983Z",
     "start_time": "2023-02-16T11:28:49.135292Z"
    }
   },
   "outputs": [
    {
     "data": {
      "text/plain": [
       "torch.float32"
      ]
     },
     "execution_count": 23,
     "metadata": {},
     "output_type": "execute_result"
    }
   ],
   "source": [
    "#data types \n",
    "float_32_tensor = torch.tensor([1.,2.,3.],\n",
    "                                dtype = None)\n",
    "float_32_tensor.dtype"
   ]
  },
  {
   "cell_type": "code",
   "execution_count": 24,
   "id": "f570c4bc",
   "metadata": {
    "ExecuteTime": {
     "end_time": "2023-02-16T11:29:19.225882Z",
     "start_time": "2023-02-16T11:29:19.210953Z"
    }
   },
   "outputs": [
    {
     "data": {
      "text/plain": [
       "torch.float16"
      ]
     },
     "execution_count": 24,
     "metadata": {},
     "output_type": "execute_result"
    }
   ],
   "source": [
    "float_16_tensor = torch.tensor([1.,2.,3.],\n",
    "                                dtype = torch.float16)\n",
    "float_16_tensor.dtype"
   ]
  },
  {
   "cell_type": "code",
   "execution_count": 25,
   "id": "de299e0d",
   "metadata": {
    "ExecuteTime": {
     "end_time": "2023-02-16T11:35:49.255536Z",
     "start_time": "2023-02-16T11:35:49.243535Z"
    }
   },
   "outputs": [
    {
     "data": {
      "text/plain": [
       "tensor([1., 2., 3.], dtype=torch.float16)"
      ]
     },
     "execution_count": 25,
     "metadata": {},
     "output_type": "execute_result"
    }
   ],
   "source": [
    "float_16_changer_tensor = float_32_tensor.type(torch.float16)\n",
    "float_16_changer_tensor"
   ]
  },
  {
   "cell_type": "code",
   "execution_count": 30,
   "id": "eb809bb7",
   "metadata": {
    "ExecuteTime": {
     "end_time": "2023-02-16T11:36:09.892522Z",
     "start_time": "2023-02-16T11:36:09.881612Z"
    }
   },
   "outputs": [
    {
     "data": {
      "text/plain": [
       "tensor([[0.8551, 0.9745, 0.8084, 0.1066, 0.2999, 0.6545, 0.5947, 0.5718, 0.2143,\n",
       "         0.7834],\n",
       "        [0.9892, 0.1403, 0.3519, 0.4440, 0.8949, 0.8407, 0.6984, 0.4647, 0.4126,\n",
       "         0.1163],\n",
       "        [0.2197, 0.8836, 0.8585, 0.0196, 0.1652, 0.1634, 0.6412, 0.4747, 0.6811,\n",
       "         0.2203],\n",
       "        [0.4898, 0.5792, 0.1036, 0.0521, 0.7442, 0.5819, 0.1817, 0.7064, 0.4980,\n",
       "         0.6133],\n",
       "        [0.5857, 0.4213, 0.3473, 0.0421, 0.7950, 0.7473, 0.9545, 0.7529, 0.1058,\n",
       "         0.7119],\n",
       "        [0.8150, 0.5676, 0.5705, 0.3501, 0.4107, 0.4995, 0.4637, 0.6767, 0.4130,\n",
       "         0.7524],\n",
       "        [0.0257, 0.0377, 0.0196, 0.6327, 0.1150, 0.4755, 0.4878, 0.3837, 0.6964,\n",
       "         0.3716],\n",
       "        [0.8808, 0.0312, 0.5745, 0.7474, 0.4023, 0.4801, 0.6572, 0.4801, 0.4165,\n",
       "         0.2373],\n",
       "        [0.6679, 0.0391, 0.3701, 0.1135, 0.2050, 0.7121, 0.9490, 0.0647, 0.8802,\n",
       "         0.7735],\n",
       "        [0.5816, 0.6740, 0.3777, 0.9040, 0.5971, 0.7157, 0.2452, 0.1685, 0.1668,\n",
       "         0.4975]])"
      ]
     },
     "execution_count": 30,
     "metadata": {},
     "output_type": "execute_result"
    }
   ],
   "source": [
    "random_tensor_10 = torch.rand(10,10)\n",
    "random_tensor_10"
   ]
  },
  {
   "cell_type": "code",
   "execution_count": null,
   "id": "dc34a621",
   "metadata": {},
   "outputs": [],
   "source": []
  }
 ],
 "metadata": {
  "kernelspec": {
   "display_name": "mlp",
   "language": "python",
   "name": "python3"
  },
  "language_info": {
   "codemirror_mode": {
    "name": "ipython",
    "version": 3
   },
   "file_extension": ".py",
   "mimetype": "text/x-python",
   "name": "python",
   "nbconvert_exporter": "python",
   "pygments_lexer": "ipython3",
   "version": "3.8.13"
  },
  "vscode": {
   "interpreter": {
    "hash": "2005f1781ccee8f4f9fec177b93fc632569ac16d9f7914b01759fcfbe88a940b"
   }
  }
 },
 "nbformat": 4,
 "nbformat_minor": 5
}
