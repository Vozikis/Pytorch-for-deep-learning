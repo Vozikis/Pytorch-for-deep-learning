{
 "cells": [
  {
   "cell_type": "code",
   "execution_count": 1,
   "id": "32f128fc",
   "metadata": {
    "ExecuteTime": {
     "end_time": "2023-02-14T21:27:19.978036Z",
     "start_time": "2023-02-14T21:27:19.111711Z"
    }
   },
   "outputs": [],
   "source": [
    "import torch\n",
    "import pandas as pd\n",
    "import numpy as np\n",
    "import matplotlib.pyplot as plt"
   ]
  },
  {
   "cell_type": "code",
   "execution_count": 2,
   "id": "2298d078",
   "metadata": {
    "ExecuteTime": {
     "end_time": "2023-02-14T21:26:28.093297Z",
     "start_time": "2023-02-14T21:26:28.083524Z"
    }
   },
   "outputs": [
    {
     "name": "stdout",
     "output_type": "stream",
     "text": [
      "2.0.0.dev20230207\n"
     ]
    }
   ],
   "source": [
    "print (torch.__version__)"
   ]
  },
  {
   "cell_type": "code",
   "execution_count": 3,
   "id": "a9e61719",
   "metadata": {
    "ExecuteTime": {
     "end_time": "2023-02-14T21:31:53.370265Z",
     "start_time": "2023-02-14T21:31:53.347455Z"
    }
   },
   "outputs": [
    {
     "data": {
      "text/plain": [
       "tensor(7)"
      ]
     },
     "execution_count": 3,
     "metadata": {},
     "output_type": "execute_result"
    }
   ],
   "source": [
    "#scalar\n",
    "scalar = torch.tensor(7)\n",
    "scalar"
   ]
  },
  {
   "cell_type": "code",
   "execution_count": 4,
   "id": "2ed128be",
   "metadata": {
    "ExecuteTime": {
     "end_time": "2023-02-15T21:47:03.892741Z",
     "start_time": "2023-02-15T21:47:03.883121Z"
    }
   },
   "outputs": [
    {
     "data": {
      "text/plain": [
       "0"
      ]
     },
     "execution_count": 4,
     "metadata": {},
     "output_type": "execute_result"
    }
   ],
   "source": [
    "#show the dimensions of the scalar\n",
    "#shwos the number of dimensions\n",
    "scalar.ndim"
   ]
  },
  {
   "cell_type": "code",
   "execution_count": 5,
   "id": "01eff2d4",
   "metadata": {
    "ExecuteTime": {
     "end_time": "2023-02-14T21:35:06.283716Z",
     "start_time": "2023-02-14T21:35:06.274823Z"
    }
   },
   "outputs": [
    {
     "data": {
      "text/plain": [
       "7"
      ]
     },
     "execution_count": 5,
     "metadata": {},
     "output_type": "execute_result"
    }
   ],
   "source": [
    "#method that we can use to get the item of the scalar\n",
    "scalar.item()"
   ]
  },
  {
   "cell_type": "code",
   "execution_count": 6,
   "id": "0534b20b",
   "metadata": {
    "ExecuteTime": {
     "end_time": "2023-02-14T21:36:38.836828Z",
     "start_time": "2023-02-14T21:36:38.825886Z"
    }
   },
   "outputs": [
    {
     "data": {
      "text/plain": [
       "1"
      ]
     },
     "execution_count": 6,
     "metadata": {},
     "output_type": "execute_result"
    }
   ],
   "source": [
    "#create a pytorch vector\n",
    "\n",
    "vector = torch.tensor([7,7])\n",
    "vector.ndim\n"
   ]
  },
  {
   "cell_type": "code",
   "execution_count": 7,
   "id": "23ec4c7c",
   "metadata": {
    "ExecuteTime": {
     "end_time": "2023-02-14T21:36:39.068413Z",
     "start_time": "2023-02-14T21:36:39.058385Z"
    }
   },
   "outputs": [
    {
     "data": {
      "text/plain": [
       "torch.Size([2])"
      ]
     },
     "execution_count": 7,
     "metadata": {},
     "output_type": "execute_result"
    }
   ],
   "source": [
    "vector.shape"
   ]
  },
  {
   "cell_type": "code",
   "execution_count": 8,
   "id": "09750b04",
   "metadata": {
    "ExecuteTime": {
     "end_time": "2023-02-14T21:38:09.764265Z",
     "start_time": "2023-02-14T21:38:09.748827Z"
    }
   },
   "outputs": [
    {
     "data": {
      "text/plain": [
       "tensor([[2, 3],\n",
       "        [4, 5]])"
      ]
     },
     "execution_count": 8,
     "metadata": {},
     "output_type": "execute_result"
    }
   ],
   "source": [
    "#create a matrix\n",
    "matrix = torch.tensor([[2,3],\n",
    "                       [4,5]])\n",
    "matrix"
   ]
  },
  {
   "cell_type": "code",
   "execution_count": 9,
   "id": "1717f87b",
   "metadata": {
    "ExecuteTime": {
     "end_time": "2023-02-14T21:38:18.791084Z",
     "start_time": "2023-02-14T21:38:18.781509Z"
    }
   },
   "outputs": [
    {
     "data": {
      "text/plain": [
       "torch.Size([2, 2])"
      ]
     },
     "execution_count": 9,
     "metadata": {},
     "output_type": "execute_result"
    }
   ],
   "source": [
    "matrix.shape"
   ]
  },
  {
   "cell_type": "code",
   "execution_count": 10,
   "id": "42146b4f",
   "metadata": {
    "ExecuteTime": {
     "end_time": "2023-02-14T21:39:14.831464Z",
     "start_time": "2023-02-14T21:39:14.821254Z"
    }
   },
   "outputs": [
    {
     "data": {
      "text/plain": [
       "2"
      ]
     },
     "execution_count": 10,
     "metadata": {},
     "output_type": "execute_result"
    }
   ],
   "source": [
    "matrix.ndim"
   ]
  },
  {
   "cell_type": "code",
   "execution_count": 11,
   "id": "32a3734c",
   "metadata": {
    "ExecuteTime": {
     "end_time": "2023-02-14T21:39:26.275129Z",
     "start_time": "2023-02-14T21:39:26.264473Z"
    }
   },
   "outputs": [
    {
     "data": {
      "text/plain": [
       "tensor([4, 5])"
      ]
     },
     "execution_count": 11,
     "metadata": {},
     "output_type": "execute_result"
    }
   ],
   "source": [
    "#what does ndim do\n",
    "matrix[1]"
   ]
  },
  {
   "cell_type": "code",
   "execution_count": 65,
   "id": "8ec979a6",
   "metadata": {
    "ExecuteTime": {
     "end_time": "2023-02-14T21:41:46.884242Z",
     "start_time": "2023-02-14T21:41:46.870728Z"
    }
   },
   "outputs": [
    {
     "data": {
      "text/plain": [
       "tensor([[[1., 2., 3.],\n",
       "         [3., 4., 5.],\n",
       "         [4., 5., 6.]]])"
      ]
     },
     "execution_count": 65,
     "metadata": {},
     "output_type": "execute_result"
    }
   ],
   "source": [
    "#tensor\n",
    "tensor = torch.tensor([[[1,2,3],\n",
    "                        [3,4,5],\n",
    "                        [4,5,6]]], dtype= torch.float32)\n",
    "tensor"
   ]
  },
  {
   "cell_type": "code",
   "execution_count": 66,
   "id": "9572f792",
   "metadata": {
    "ExecuteTime": {
     "end_time": "2023-02-14T21:41:53.557069Z",
     "start_time": "2023-02-14T21:41:53.546570Z"
    }
   },
   "outputs": [
    {
     "data": {
      "text/plain": [
       "3"
      ]
     },
     "execution_count": 66,
     "metadata": {},
     "output_type": "execute_result"
    }
   ],
   "source": [
    "tensor.ndim"
   ]
  },
  {
   "cell_type": "code",
   "execution_count": 67,
   "id": "f566ce2d",
   "metadata": {
    "ExecuteTime": {
     "end_time": "2023-02-14T21:43:18.229203Z",
     "start_time": "2023-02-14T21:43:18.219655Z"
    }
   },
   "outputs": [
    {
     "data": {
      "text/plain": [
       "torch.Size([1, 3, 3])"
      ]
     },
     "execution_count": 67,
     "metadata": {},
     "output_type": "execute_result"
    }
   ],
   "source": [
    "tensor.shape\n",
    "#torch.Size([1, 3, 3]) we have a 1 tensor with a 3x3 matrix"
   ]
  },
  {
   "cell_type": "code",
   "execution_count": 68,
   "id": "a7e9d066",
   "metadata": {
    "ExecuteTime": {
     "end_time": "2023-02-15T21:45:04.468166Z",
     "start_time": "2023-02-15T21:45:04.423037Z"
    }
   },
   "outputs": [
    {
     "data": {
      "text/plain": [
       "tensor([[0.8547, 0.7870, 0.5995, 0.5451],\n",
       "        [0.7973, 0.9470, 0.5712, 0.8403],\n",
       "        [0.4941, 0.1472, 0.9759, 0.5389]])"
      ]
     },
     "execution_count": 68,
     "metadata": {},
     "output_type": "execute_result"
    }
   ],
   "source": [
    "###random Tensors\n",
    "#Create a random tensor of (3,4)\n",
    "rTensor = torch.rand(3,4)\n",
    "rTensor"
   ]
  },
  {
   "cell_type": "code",
   "execution_count": 69,
   "id": "7242fa0c",
   "metadata": {
    "ExecuteTime": {
     "end_time": "2023-02-15T21:50:27.417222Z",
     "start_time": "2023-02-15T21:50:27.407466Z"
    }
   },
   "outputs": [
    {
     "data": {
      "text/plain": [
       "tensor([[0., 0., 0., 0.],\n",
       "        [0., 0., 0., 0.],\n",
       "        [0., 0., 0., 0.]])"
      ]
     },
     "execution_count": 69,
     "metadata": {},
     "output_type": "execute_result"
    }
   ],
   "source": [
    "#create a 3,4 matrix with 0s\n",
    "zeroTensor = torch.zeros(3,4)\n",
    "zeroTensor"
   ]
  },
  {
   "cell_type": "code",
   "execution_count": 70,
   "id": "6c074928",
   "metadata": {
    "ExecuteTime": {
     "end_time": "2023-02-15T21:51:08.168706Z",
     "start_time": "2023-02-15T21:51:08.155608Z"
    }
   },
   "outputs": [
    {
     "data": {
      "text/plain": [
       "tensor([[1., 1., 1., 1.],\n",
       "        [1., 1., 1., 1.],\n",
       "        [1., 1., 1., 1.]])"
      ]
     },
     "execution_count": 70,
     "metadata": {},
     "output_type": "execute_result"
    }
   ],
   "source": [
    "#create a 3,4 matrix with 1s\n",
    "oneTensor = torch.ones(3,4)\n",
    "oneTensor"
   ]
  },
  {
   "cell_type": "code",
   "execution_count": 71,
   "id": "7bd3cb32",
   "metadata": {
    "ExecuteTime": {
     "end_time": "2023-02-15T21:52:43.149768Z",
     "start_time": "2023-02-15T21:52:43.140145Z"
    }
   },
   "outputs": [
    {
     "data": {
      "text/plain": [
       "torch.float32"
      ]
     },
     "execution_count": 71,
     "metadata": {},
     "output_type": "execute_result"
    }
   ],
   "source": [
    "#what is the data type\n",
    "oneTensor.dtype"
   ]
  },
  {
   "cell_type": "code",
   "execution_count": 72,
   "id": "7f61e09a",
   "metadata": {
    "ExecuteTime": {
     "end_time": "2023-02-16T11:23:16.579361Z",
     "start_time": "2023-02-16T11:23:16.565294Z"
    }
   },
   "outputs": [
    {
     "data": {
      "text/plain": [
       "tensor([0, 1, 2, 3, 4, 5, 6, 7, 8, 9])"
      ]
     },
     "execution_count": 72,
     "metadata": {},
     "output_type": "execute_result"
    }
   ],
   "source": [
    "# Creating a range of tensors and tensors like\n",
    "one_to_ten = torch.arange(0,10)\n",
    "one_to_ten\n",
    "\n"
   ]
  },
  {
   "cell_type": "code",
   "execution_count": 73,
   "id": "7641f9cd",
   "metadata": {
    "ExecuteTime": {
     "end_time": "2023-02-16T11:23:15.336728Z",
     "start_time": "2023-02-16T11:23:15.324563Z"
    }
   },
   "outputs": [
    {
     "data": {
      "text/plain": [
       "tensor([  0,  23,  46,  69,  92, 115, 138, 161, 184, 207, 230, 253, 276, 299,\n",
       "        322, 345, 368, 391, 414, 437, 460, 483, 506, 529, 552, 575, 598, 621,\n",
       "        644, 667, 690, 713, 736, 759, 782, 805, 828, 851, 874, 897, 920, 943,\n",
       "        966, 989])"
      ]
     },
     "execution_count": 73,
     "metadata": {},
     "output_type": "execute_result"
    }
   ],
   "source": [
    "start_end = torch.arange(start=0, end=1000, step=23)\n",
    "start_end"
   ]
  },
  {
   "cell_type": "code",
   "execution_count": 74,
   "id": "d567a079",
   "metadata": {
    "ExecuteTime": {
     "end_time": "2023-02-16T11:24:46.142130Z",
     "start_time": "2023-02-16T11:24:46.130727Z"
    }
   },
   "outputs": [
    {
     "data": {
      "text/plain": [
       "tensor([0, 0, 0, 0, 0, 0, 0, 0, 0, 0])"
      ]
     },
     "execution_count": 74,
     "metadata": {},
     "output_type": "execute_result"
    }
   ],
   "source": [
    "#create a tensor with teh same size as some else tensor\n",
    "like_tensor = torch.zeros_like(one_to_ten)\n",
    "like_tensor"
   ]
  },
  {
   "cell_type": "code",
   "execution_count": 75,
   "id": "45ba7b7e",
   "metadata": {
    "ExecuteTime": {
     "end_time": "2023-02-16T11:25:21.859776Z",
     "start_time": "2023-02-16T11:25:21.848882Z"
    }
   },
   "outputs": [
    {
     "data": {
      "text/plain": [
       "tensor([[[1., 1., 1.],\n",
       "         [1., 1., 1.],\n",
       "         [1., 1., 1.]]])"
      ]
     },
     "execution_count": 75,
     "metadata": {},
     "output_type": "execute_result"
    }
   ],
   "source": [
    "like_tensor_ones_matrix = torch.ones_like(tensor)\n",
    "like_tensor_ones_matrix"
   ]
  },
  {
   "cell_type": "code",
   "execution_count": 76,
   "id": "203664de",
   "metadata": {
    "ExecuteTime": {
     "end_time": "2023-02-16T11:28:49.147983Z",
     "start_time": "2023-02-16T11:28:49.135292Z"
    }
   },
   "outputs": [
    {
     "data": {
      "text/plain": [
       "torch.float32"
      ]
     },
     "execution_count": 76,
     "metadata": {},
     "output_type": "execute_result"
    }
   ],
   "source": [
    "#data types \n",
    "float_32_tensor = torch.tensor([1.,2.,3.],\n",
    "                                dtype = None)\n",
    "float_32_tensor.dtype"
   ]
  },
  {
   "cell_type": "code",
   "execution_count": 77,
   "id": "f570c4bc",
   "metadata": {
    "ExecuteTime": {
     "end_time": "2023-02-16T11:29:19.225882Z",
     "start_time": "2023-02-16T11:29:19.210953Z"
    }
   },
   "outputs": [
    {
     "data": {
      "text/plain": [
       "torch.float16"
      ]
     },
     "execution_count": 77,
     "metadata": {},
     "output_type": "execute_result"
    }
   ],
   "source": [
    "float_16_tensor = torch.tensor([1.,2.,3.],\n",
    "                                dtype = torch.float16)\n",
    "float_16_tensor.dtype"
   ]
  },
  {
   "cell_type": "code",
   "execution_count": 78,
   "id": "de299e0d",
   "metadata": {
    "ExecuteTime": {
     "end_time": "2023-02-16T11:35:49.255536Z",
     "start_time": "2023-02-16T11:35:49.243535Z"
    }
   },
   "outputs": [
    {
     "data": {
      "text/plain": [
       "tensor([1., 2., 3.], dtype=torch.float16)"
      ]
     },
     "execution_count": 78,
     "metadata": {},
     "output_type": "execute_result"
    }
   ],
   "source": [
    "float_16_changer_tensor = float_32_tensor.type(torch.float16)\n",
    "float_16_changer_tensor"
   ]
  },
  {
   "cell_type": "code",
   "execution_count": 79,
   "id": "eb809bb7",
   "metadata": {
    "ExecuteTime": {
     "end_time": "2023-02-16T11:36:09.892522Z",
     "start_time": "2023-02-16T11:36:09.881612Z"
    }
   },
   "outputs": [
    {
     "data": {
      "text/plain": [
       "tensor([[0.3023, 0.6475],\n",
       "        [0.5827, 0.6946]])"
      ]
     },
     "execution_count": 79,
     "metadata": {},
     "output_type": "execute_result"
    }
   ],
   "source": [
    "random_tensor_10 = torch.rand(2,2)\n",
    "random_tensor_10"
   ]
  },
  {
   "cell_type": "code",
   "execution_count": 80,
   "id": "dc34a621",
   "metadata": {},
   "outputs": [
    {
     "name": "stdout",
     "output_type": "stream",
     "text": [
      "shape of tensor is torch.Size([2, 2]) and the type of the tensor is torch.float32\n"
     ]
    }
   ],
   "source": [
    "print(f\"shape of tensor is {random_tensor_10.shape} and the type of the tensor is {random_tensor_10.dtype}\")"
   ]
  },
  {
   "cell_type": "code",
   "execution_count": 81,
   "id": "c4d02c97",
   "metadata": {},
   "outputs": [
    {
     "data": {
      "text/plain": [
       "tensor([[[11., 12., 13.],\n",
       "         [13., 14., 15.],\n",
       "         [14., 15., 16.]]])"
      ]
     },
     "execution_count": 81,
     "metadata": {},
     "output_type": "execute_result"
    }
   ],
   "source": [
    "#manipulating tensors\n",
    "tensor_10 = tensor +10\n",
    "tensor_10"
   ]
  },
  {
   "cell_type": "code",
   "execution_count": 82,
   "id": "b7ea214e",
   "metadata": {},
   "outputs": [
    {
     "data": {
      "text/plain": [
       "tensor([[[10., 20., 30.],\n",
       "         [30., 40., 50.],\n",
       "         [40., 50., 60.]]])"
      ]
     },
     "execution_count": 82,
     "metadata": {},
     "output_type": "execute_result"
    }
   ],
   "source": [
    "tensor_mul = torch.mul(tensor,10)\n",
    "tensor_mul"
   ]
  },
  {
   "cell_type": "code",
   "execution_count": 83,
   "id": "8c3781b9",
   "metadata": {},
   "outputs": [
    {
     "data": {
      "text/plain": [
       "tensor([[[10., 20., 30.],\n",
       "         [30., 40., 50.],\n",
       "         [40., 50., 60.]]])"
      ]
     },
     "execution_count": 83,
     "metadata": {},
     "output_type": "execute_result"
    }
   ],
   "source": [
    "#the multiplication aka element multiplication can also be done\n",
    "tensor_mul = tensor * 10\n",
    "tensor_mul"
   ]
  },
  {
   "cell_type": "code",
   "execution_count": 84,
   "id": "4b5e04bf",
   "metadata": {},
   "outputs": [
    {
     "data": {
      "text/plain": [
       "tensor([[0.2031, 0.2739, 0.6760],\n",
       "        [0.1659, 0.3655, 0.8070],\n",
       "        [0.2508, 0.2413, 0.4270]])"
      ]
     },
     "execution_count": 84,
     "metadata": {},
     "output_type": "execute_result"
    }
   ],
   "source": [
    "#matrix multiplication aka dot product\n",
    "tensor_3x3 = torch.rand([3,3])\n",
    "tensor_3x3b = torch.rand([3,3])\n",
    "MM = torch.matmul(tensor_3x3,tensor_3x3b)\n",
    "MM"
   ]
  },
  {
   "cell_type": "code",
   "execution_count": 85,
   "id": "b3462674",
   "metadata": {},
   "outputs": [
    {
     "name": "stdout",
     "output_type": "stream",
     "text": [
      "tensor([0.3445, 0.2392, 0.4980])\n",
      "CPU times: user 868 µs, sys: 784 µs, total: 1.65 ms\n",
      "Wall time: 994 µs\n"
     ]
    }
   ],
   "source": [
    "%%time\n",
    " value = 0\n",
    " for i in range(len(tensor_3x3)) :\n",
    "     value += tensor_3x3[i] * tensor_3x3b[i]\n",
    "print(value)"
   ]
  },
  {
   "cell_type": "code",
   "execution_count": 86,
   "id": "2cf908be",
   "metadata": {},
   "outputs": [
    {
     "name": "stdout",
     "output_type": "stream",
     "text": [
      "CPU times: user 35 µs, sys: 4 µs, total: 39 µs\n",
      "Wall time: 39.3 µs\n"
     ]
    },
    {
     "data": {
      "text/plain": [
       "tensor([[0.2031, 0.2739, 0.6760],\n",
       "        [0.1659, 0.3655, 0.8070],\n",
       "        [0.2508, 0.2413, 0.4270]])"
      ]
     },
     "execution_count": 86,
     "metadata": {},
     "output_type": "execute_result"
    }
   ],
   "source": [
    "%%time\n",
    "MM = torch.matmul(tensor_3x3,tensor_3x3b)\n",
    "MM"
   ]
  },
  {
   "cell_type": "code",
   "execution_count": 87,
   "id": "c9e6fa2a",
   "metadata": {},
   "outputs": [
    {
     "data": {
      "text/plain": [
       "tensor([[0.0553, 0.0268, 0.1933],\n",
       "        [0.2264, 0.1729, 0.0061],\n",
       "        [0.0628, 0.0395, 0.2986]])"
      ]
     },
     "execution_count": 87,
     "metadata": {},
     "output_type": "execute_result"
    }
   ],
   "source": [
    "# another way to do matrix multiplication is via the @ operator\n",
    "tensor_3x3b * tensor_3x3"
   ]
  },
  {
   "cell_type": "code",
   "execution_count": 88,
   "id": "fceb6bc4",
   "metadata": {},
   "outputs": [
    {
     "data": {
      "text/plain": [
       "tensor([[0.2031, 0.2739, 0.6760],\n",
       "        [0.1659, 0.3655, 0.8070],\n",
       "        [0.2508, 0.2413, 0.4270]])"
      ]
     },
     "execution_count": 88,
     "metadata": {},
     "output_type": "execute_result"
    }
   ],
   "source": [
    "# another way to do matrix multiplication is via torch.mm\n",
    "torch.mm(tensor_3x3, tensor_3x3b)"
   ]
  },
  {
   "cell_type": "code",
   "execution_count": 89,
   "id": "eccf884c",
   "metadata": {},
   "outputs": [
    {
     "data": {
      "text/plain": [
       "tensor(1.)"
      ]
     },
     "execution_count": 89,
     "metadata": {},
     "output_type": "execute_result"
    }
   ],
   "source": [
    "#find the min\n",
    "tensor.min()"
   ]
  },
  {
   "cell_type": "code",
   "execution_count": 90,
   "id": "8846b38d",
   "metadata": {},
   "outputs": [
    {
     "data": {
      "text/plain": [
       "tensor(6.)"
      ]
     },
     "execution_count": 90,
     "metadata": {},
     "output_type": "execute_result"
    }
   ],
   "source": [
    "#find the max\n",
    "tensor.max()"
   ]
  },
  {
   "cell_type": "code",
   "execution_count": 91,
   "id": "2cc3d54b",
   "metadata": {},
   "outputs": [
    {
     "data": {
      "text/plain": [
       "tensor(33.)"
      ]
     },
     "execution_count": 91,
     "metadata": {},
     "output_type": "execute_result"
    }
   ],
   "source": [
    "#find the sum\n",
    "tensor.sum()"
   ]
  },
  {
   "cell_type": "code",
   "execution_count": 94,
   "id": "9d3ed819",
   "metadata": {},
   "outputs": [
    {
     "data": {
      "text/plain": [
       "tensor(3.6667)"
      ]
     },
     "execution_count": 94,
     "metadata": {},
     "output_type": "execute_result"
    }
   ],
   "source": [
    "#find the mean\n",
    "tensor.type(torch.float64)\n",
    "tensor.mean()"
   ]
  },
  {
   "cell_type": "code",
   "execution_count": 95,
   "id": "5668a03a",
   "metadata": {},
   "outputs": [
    {
     "data": {
      "text/plain": [
       "tensor(0)"
      ]
     },
     "execution_count": 95,
     "metadata": {},
     "output_type": "execute_result"
    }
   ],
   "source": [
    "#finding the position of the min element in the tensor\n",
    "tensor.argmin()"
   ]
  },
  {
   "cell_type": "code",
   "execution_count": 96,
   "id": "c69b4320",
   "metadata": {},
   "outputs": [
    {
     "data": {
      "text/plain": [
       "tensor(8)"
      ]
     },
     "execution_count": 96,
     "metadata": {},
     "output_type": "execute_result"
    }
   ],
   "source": [
    "#finding the positinio of the max element in the tensor\n",
    "tensor.argmax()"
   ]
  },
  {
   "cell_type": "code",
   "execution_count": 97,
   "id": "503206ed",
   "metadata": {},
   "outputs": [
    {
     "data": {
      "text/plain": [
       "tensor([[[1., 2., 3.],\n",
       "         [3., 4., 5.],\n",
       "         [4., 5., 6.]]])"
      ]
     },
     "execution_count": 97,
     "metadata": {},
     "output_type": "execute_result"
    }
   ],
   "source": [
    "tensor"
   ]
  },
  {
   "cell_type": "code",
   "execution_count": 98,
   "id": "f800e7a6",
   "metadata": {},
   "outputs": [],
   "source": [
    "#reshape\n",
    "#reshapes an input tensor to a desired shape\n",
    "\n"
   ]
  },
  {
   "cell_type": "code",
   "execution_count": 99,
   "id": "c4103f49",
   "metadata": {},
   "outputs": [],
   "source": [
    "#view\n",
    "#return a view of an input tensor of a certain shape but retain the same memory as the original tensor\n"
   ]
  },
  {
   "cell_type": "code",
   "execution_count": 100,
   "id": "0b7979e3",
   "metadata": {},
   "outputs": [],
   "source": [
    "#stacking\n",
    "#combine different tensors together, whether the one on top (vstack) of the other or the one next to each other (hstack)\n"
   ]
  },
  {
   "cell_type": "code",
   "execution_count": 101,
   "id": "a062084d",
   "metadata": {},
   "outputs": [],
   "source": [
    "#squeeze\n",
    "#removes all the 1 dimensions from the tensor\n"
   ]
  },
  {
   "cell_type": "code",
   "execution_count": 102,
   "id": "95007232",
   "metadata": {},
   "outputs": [],
   "source": [
    "#unscqueeze\n",
    "#ass a 1 dimension to a target tensor\n"
   ]
  },
  {
   "cell_type": "code",
   "execution_count": 103,
   "id": "fee42200",
   "metadata": {},
   "outputs": [],
   "source": [
    "#permute\n",
    "#return a view of the input with dimensions permuted (swapped) in a certain way \n"
   ]
  },
  {
   "cell_type": "code",
   "execution_count": 115,
   "id": "80ee97a8",
   "metadata": {},
   "outputs": [
    {
     "data": {
      "text/plain": [
       "(tensor([ 3.,  4.,  5.,  6.,  7.,  8.,  9., 10., 11., 12.]), torch.Size([10]))"
      ]
     },
     "execution_count": 115,
     "metadata": {},
     "output_type": "execute_result"
    }
   ],
   "source": [
    "x_tensor = torch.arange(3.,13.)\n",
    "x_tensor, x_tensor.shape"
   ]
  },
  {
   "cell_type": "code",
   "execution_count": 116,
   "id": "c65f22e8",
   "metadata": {},
   "outputs": [
    {
     "data": {
      "text/plain": [
       "(tensor([[ 3.,  4.,  5.,  6.,  7.,  8.,  9., 10., 11., 12.]]),\n",
       " torch.Size([1, 10]))"
      ]
     },
     "execution_count": 116,
     "metadata": {},
     "output_type": "execute_result"
    }
   ],
   "source": [
    "x_reshaped = x_tensor.reshape(1,10) #add another dimension\n",
    "x_reshaped, x_reshaped.shape\n"
   ]
  },
  {
   "cell_type": "code",
   "execution_count": null,
   "id": "f3e773f1",
   "metadata": {},
   "outputs": [],
   "source": []
  }
 ],
 "metadata": {
  "kernelspec": {
   "display_name": "dfl_test",
   "language": "python",
   "name": "python3"
  },
  "language_info": {
   "codemirror_mode": {
    "name": "ipython",
    "version": 3
   },
   "file_extension": ".py",
   "mimetype": "text/x-python",
   "name": "python",
   "nbconvert_exporter": "python",
   "pygments_lexer": "ipython3",
   "version": "3.8.13"
  },
  "vscode": {
   "interpreter": {
    "hash": "e07a02acc2b817d40ec1ea3637a785a752256166113a94157a19014e19a8bdfa"
   }
  }
 },
 "nbformat": 4,
 "nbformat_minor": 5
}
