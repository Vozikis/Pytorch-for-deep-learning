{
 "cells": [
  {
   "cell_type": "code",
   "execution_count": 1,
   "id": "32f128fc",
   "metadata": {
    "ExecuteTime": {
     "end_time": "2023-02-14T21:27:19.978036Z",
     "start_time": "2023-02-14T21:27:19.111711Z"
    }
   },
   "outputs": [],
   "source": [
    "import torch\n",
    "import pandas as pd\n",
    "import numpy as np\n",
    "import matplotlib.pyplot as plt"
   ]
  },
  {
   "cell_type": "code",
   "execution_count": 2,
   "id": "2298d078",
   "metadata": {
    "ExecuteTime": {
     "end_time": "2023-02-14T21:26:28.093297Z",
     "start_time": "2023-02-14T21:26:28.083524Z"
    }
   },
   "outputs": [
    {
     "name": "stdout",
     "output_type": "stream",
     "text": [
      "2.0.0.dev20230207\n"
     ]
    }
   ],
   "source": [
    "print (torch.__version__)"
   ]
  },
  {
   "cell_type": "code",
   "execution_count": 3,
   "id": "a9e61719",
   "metadata": {
    "ExecuteTime": {
     "end_time": "2023-02-14T21:31:53.370265Z",
     "start_time": "2023-02-14T21:31:53.347455Z"
    }
   },
   "outputs": [
    {
     "data": {
      "text/plain": [
       "tensor(7)"
      ]
     },
     "execution_count": 3,
     "metadata": {},
     "output_type": "execute_result"
    }
   ],
   "source": [
    "#scalar\n",
    "scalar = torch.tensor(7)\n",
    "scalar"
   ]
  },
  {
   "cell_type": "code",
   "execution_count": 4,
   "id": "2ed128be",
   "metadata": {
    "ExecuteTime": {
     "end_time": "2023-02-15T21:47:03.892741Z",
     "start_time": "2023-02-15T21:47:03.883121Z"
    }
   },
   "outputs": [
    {
     "data": {
      "text/plain": [
       "0"
      ]
     },
     "execution_count": 4,
     "metadata": {},
     "output_type": "execute_result"
    }
   ],
   "source": [
    "#show the dimensions of the scalar\n",
    "#shwos the number of dimensions\n",
    "scalar.ndim"
   ]
  },
  {
   "cell_type": "code",
   "execution_count": 5,
   "id": "01eff2d4",
   "metadata": {
    "ExecuteTime": {
     "end_time": "2023-02-14T21:35:06.283716Z",
     "start_time": "2023-02-14T21:35:06.274823Z"
    }
   },
   "outputs": [
    {
     "data": {
      "text/plain": [
       "7"
      ]
     },
     "execution_count": 5,
     "metadata": {},
     "output_type": "execute_result"
    }
   ],
   "source": [
    "#method that we can use to get the item of the scalar\n",
    "scalar.item()"
   ]
  },
  {
   "cell_type": "code",
   "execution_count": 6,
   "id": "0534b20b",
   "metadata": {
    "ExecuteTime": {
     "end_time": "2023-02-14T21:36:38.836828Z",
     "start_time": "2023-02-14T21:36:38.825886Z"
    }
   },
   "outputs": [
    {
     "data": {
      "text/plain": [
       "1"
      ]
     },
     "execution_count": 6,
     "metadata": {},
     "output_type": "execute_result"
    }
   ],
   "source": [
    "#create a pytorch vector\n",
    "\n",
    "vector = torch.tensor([7,7])\n",
    "vector.ndim\n"
   ]
  },
  {
   "cell_type": "code",
   "execution_count": 7,
   "id": "23ec4c7c",
   "metadata": {
    "ExecuteTime": {
     "end_time": "2023-02-14T21:36:39.068413Z",
     "start_time": "2023-02-14T21:36:39.058385Z"
    }
   },
   "outputs": [
    {
     "data": {
      "text/plain": [
       "torch.Size([2])"
      ]
     },
     "execution_count": 7,
     "metadata": {},
     "output_type": "execute_result"
    }
   ],
   "source": [
    "vector.shape"
   ]
  },
  {
   "cell_type": "code",
   "execution_count": 8,
   "id": "09750b04",
   "metadata": {
    "ExecuteTime": {
     "end_time": "2023-02-14T21:38:09.764265Z",
     "start_time": "2023-02-14T21:38:09.748827Z"
    }
   },
   "outputs": [
    {
     "data": {
      "text/plain": [
       "tensor([[2, 3],\n",
       "        [4, 5]])"
      ]
     },
     "execution_count": 8,
     "metadata": {},
     "output_type": "execute_result"
    }
   ],
   "source": [
    "#create a matrix\n",
    "matrix = torch.tensor([[2,3],\n",
    "                       [4,5]])\n",
    "matrix"
   ]
  },
  {
   "cell_type": "code",
   "execution_count": 9,
   "id": "1717f87b",
   "metadata": {
    "ExecuteTime": {
     "end_time": "2023-02-14T21:38:18.791084Z",
     "start_time": "2023-02-14T21:38:18.781509Z"
    }
   },
   "outputs": [
    {
     "data": {
      "text/plain": [
       "torch.Size([2, 2])"
      ]
     },
     "execution_count": 9,
     "metadata": {},
     "output_type": "execute_result"
    }
   ],
   "source": [
    "matrix.shape"
   ]
  },
  {
   "cell_type": "code",
   "execution_count": 10,
   "id": "42146b4f",
   "metadata": {
    "ExecuteTime": {
     "end_time": "2023-02-14T21:39:14.831464Z",
     "start_time": "2023-02-14T21:39:14.821254Z"
    }
   },
   "outputs": [
    {
     "data": {
      "text/plain": [
       "2"
      ]
     },
     "execution_count": 10,
     "metadata": {},
     "output_type": "execute_result"
    }
   ],
   "source": [
    "matrix.ndim"
   ]
  },
  {
   "cell_type": "code",
   "execution_count": 11,
   "id": "32a3734c",
   "metadata": {
    "ExecuteTime": {
     "end_time": "2023-02-14T21:39:26.275129Z",
     "start_time": "2023-02-14T21:39:26.264473Z"
    }
   },
   "outputs": [
    {
     "data": {
      "text/plain": [
       "tensor([4, 5])"
      ]
     },
     "execution_count": 11,
     "metadata": {},
     "output_type": "execute_result"
    }
   ],
   "source": [
    "#what does ndim do\n",
    "matrix[1]"
   ]
  },
  {
   "cell_type": "code",
   "execution_count": 65,
   "id": "8ec979a6",
   "metadata": {
    "ExecuteTime": {
     "end_time": "2023-02-14T21:41:46.884242Z",
     "start_time": "2023-02-14T21:41:46.870728Z"
    }
   },
   "outputs": [
    {
     "data": {
      "text/plain": [
       "tensor([[[1., 2., 3.],\n",
       "         [3., 4., 5.],\n",
       "         [4., 5., 6.]]])"
      ]
     },
     "execution_count": 65,
     "metadata": {},
     "output_type": "execute_result"
    }
   ],
   "source": [
    "#tensor\n",
    "tensor = torch.tensor([[[1,2,3],\n",
    "                        [3,4,5],\n",
    "                        [4,5,6]]], dtype= torch.float32)\n",
    "tensor"
   ]
  },
  {
   "cell_type": "code",
   "execution_count": 66,
   "id": "9572f792",
   "metadata": {
    "ExecuteTime": {
     "end_time": "2023-02-14T21:41:53.557069Z",
     "start_time": "2023-02-14T21:41:53.546570Z"
    }
   },
   "outputs": [
    {
     "data": {
      "text/plain": [
       "3"
      ]
     },
     "execution_count": 66,
     "metadata": {},
     "output_type": "execute_result"
    }
   ],
   "source": [
    "tensor.ndim"
   ]
  },
  {
   "cell_type": "code",
   "execution_count": 67,
   "id": "f566ce2d",
   "metadata": {
    "ExecuteTime": {
     "end_time": "2023-02-14T21:43:18.229203Z",
     "start_time": "2023-02-14T21:43:18.219655Z"
    }
   },
   "outputs": [
    {
     "data": {
      "text/plain": [
       "torch.Size([1, 3, 3])"
      ]
     },
     "execution_count": 67,
     "metadata": {},
     "output_type": "execute_result"
    }
   ],
   "source": [
    "tensor.shape\n",
    "#torch.Size([1, 3, 3]) we have a 1 tensor with a 3x3 matrix"
   ]
  },
  {
   "cell_type": "code",
   "execution_count": 68,
   "id": "a7e9d066",
   "metadata": {
    "ExecuteTime": {
     "end_time": "2023-02-15T21:45:04.468166Z",
     "start_time": "2023-02-15T21:45:04.423037Z"
    }
   },
   "outputs": [
    {
     "data": {
      "text/plain": [
       "tensor([[0.8547, 0.7870, 0.5995, 0.5451],\n",
       "        [0.7973, 0.9470, 0.5712, 0.8403],\n",
       "        [0.4941, 0.1472, 0.9759, 0.5389]])"
      ]
     },
     "execution_count": 68,
     "metadata": {},
     "output_type": "execute_result"
    }
   ],
   "source": [
    "###random Tensors\n",
    "#Create a random tensor of (3,4)\n",
    "rTensor = torch.rand(3,4)\n",
    "rTensor"
   ]
  },
  {
   "cell_type": "code",
   "execution_count": 69,
   "id": "7242fa0c",
   "metadata": {
    "ExecuteTime": {
     "end_time": "2023-02-15T21:50:27.417222Z",
     "start_time": "2023-02-15T21:50:27.407466Z"
    }
   },
   "outputs": [
    {
     "data": {
      "text/plain": [
       "tensor([[0., 0., 0., 0.],\n",
       "        [0., 0., 0., 0.],\n",
       "        [0., 0., 0., 0.]])"
      ]
     },
     "execution_count": 69,
     "metadata": {},
     "output_type": "execute_result"
    }
   ],
   "source": [
    "#create a 3,4 matrix with 0s\n",
    "zeroTensor = torch.zeros(3,4)\n",
    "zeroTensor"
   ]
  },
  {
   "cell_type": "code",
   "execution_count": 70,
   "id": "6c074928",
   "metadata": {
    "ExecuteTime": {
     "end_time": "2023-02-15T21:51:08.168706Z",
     "start_time": "2023-02-15T21:51:08.155608Z"
    }
   },
   "outputs": [
    {
     "data": {
      "text/plain": [
       "tensor([[1., 1., 1., 1.],\n",
       "        [1., 1., 1., 1.],\n",
       "        [1., 1., 1., 1.]])"
      ]
     },
     "execution_count": 70,
     "metadata": {},
     "output_type": "execute_result"
    }
   ],
   "source": [
    "#create a 3,4 matrix with 1s\n",
    "oneTensor = torch.ones(3,4)\n",
    "oneTensor"
   ]
  },
  {
   "cell_type": "code",
   "execution_count": 71,
   "id": "7bd3cb32",
   "metadata": {
    "ExecuteTime": {
     "end_time": "2023-02-15T21:52:43.149768Z",
     "start_time": "2023-02-15T21:52:43.140145Z"
    }
   },
   "outputs": [
    {
     "data": {
      "text/plain": [
       "torch.float32"
      ]
     },
     "execution_count": 71,
     "metadata": {},
     "output_type": "execute_result"
    }
   ],
   "source": [
    "#what is the data type\n",
    "oneTensor.dtype"
   ]
  },
  {
   "cell_type": "code",
   "execution_count": 72,
   "id": "7f61e09a",
   "metadata": {
    "ExecuteTime": {
     "end_time": "2023-02-16T11:23:16.579361Z",
     "start_time": "2023-02-16T11:23:16.565294Z"
    }
   },
   "outputs": [
    {
     "data": {
      "text/plain": [
       "tensor([0, 1, 2, 3, 4, 5, 6, 7, 8, 9])"
      ]
     },
     "execution_count": 72,
     "metadata": {},
     "output_type": "execute_result"
    }
   ],
   "source": [
    "# Creating a range of tensors and tensors like\n",
    "one_to_ten = torch.arange(0,10)\n",
    "one_to_ten\n",
    "\n"
   ]
  },
  {
   "cell_type": "code",
   "execution_count": 73,
   "id": "7641f9cd",
   "metadata": {
    "ExecuteTime": {
     "end_time": "2023-02-16T11:23:15.336728Z",
     "start_time": "2023-02-16T11:23:15.324563Z"
    }
   },
   "outputs": [
    {
     "data": {
      "text/plain": [
       "tensor([  0,  23,  46,  69,  92, 115, 138, 161, 184, 207, 230, 253, 276, 299,\n",
       "        322, 345, 368, 391, 414, 437, 460, 483, 506, 529, 552, 575, 598, 621,\n",
       "        644, 667, 690, 713, 736, 759, 782, 805, 828, 851, 874, 897, 920, 943,\n",
       "        966, 989])"
      ]
     },
     "execution_count": 73,
     "metadata": {},
     "output_type": "execute_result"
    }
   ],
   "source": [
    "start_end = torch.arange(start=0, end=1000, step=23)\n",
    "start_end"
   ]
  },
  {
   "cell_type": "code",
   "execution_count": 74,
   "id": "d567a079",
   "metadata": {
    "ExecuteTime": {
     "end_time": "2023-02-16T11:24:46.142130Z",
     "start_time": "2023-02-16T11:24:46.130727Z"
    }
   },
   "outputs": [
    {
     "data": {
      "text/plain": [
       "tensor([0, 0, 0, 0, 0, 0, 0, 0, 0, 0])"
      ]
     },
     "execution_count": 74,
     "metadata": {},
     "output_type": "execute_result"
    }
   ],
   "source": [
    "#create a tensor with teh same size as some else tensor\n",
    "like_tensor = torch.zeros_like(one_to_ten)\n",
    "like_tensor"
   ]
  },
  {
   "cell_type": "code",
   "execution_count": 75,
   "id": "45ba7b7e",
   "metadata": {
    "ExecuteTime": {
     "end_time": "2023-02-16T11:25:21.859776Z",
     "start_time": "2023-02-16T11:25:21.848882Z"
    }
   },
   "outputs": [
    {
     "data": {
      "text/plain": [
       "tensor([[[1., 1., 1.],\n",
       "         [1., 1., 1.],\n",
       "         [1., 1., 1.]]])"
      ]
     },
     "execution_count": 75,
     "metadata": {},
     "output_type": "execute_result"
    }
   ],
   "source": [
    "like_tensor_ones_matrix = torch.ones_like(tensor)\n",
    "like_tensor_ones_matrix"
   ]
  },
  {
   "cell_type": "code",
   "execution_count": 76,
   "id": "203664de",
   "metadata": {
    "ExecuteTime": {
     "end_time": "2023-02-16T11:28:49.147983Z",
     "start_time": "2023-02-16T11:28:49.135292Z"
    }
   },
   "outputs": [
    {
     "data": {
      "text/plain": [
       "torch.float32"
      ]
     },
     "execution_count": 76,
     "metadata": {},
     "output_type": "execute_result"
    }
   ],
   "source": [
    "#data types \n",
    "float_32_tensor = torch.tensor([1.,2.,3.],\n",
    "                                dtype = None)\n",
    "float_32_tensor.dtype"
   ]
  },
  {
   "cell_type": "code",
   "execution_count": 77,
   "id": "f570c4bc",
   "metadata": {
    "ExecuteTime": {
     "end_time": "2023-02-16T11:29:19.225882Z",
     "start_time": "2023-02-16T11:29:19.210953Z"
    }
   },
   "outputs": [
    {
     "data": {
      "text/plain": [
       "torch.float16"
      ]
     },
     "execution_count": 77,
     "metadata": {},
     "output_type": "execute_result"
    }
   ],
   "source": [
    "float_16_tensor = torch.tensor([1.,2.,3.],\n",
    "                                dtype = torch.float16)\n",
    "float_16_tensor.dtype"
   ]
  },
  {
   "cell_type": "code",
   "execution_count": 78,
   "id": "de299e0d",
   "metadata": {
    "ExecuteTime": {
     "end_time": "2023-02-16T11:35:49.255536Z",
     "start_time": "2023-02-16T11:35:49.243535Z"
    }
   },
   "outputs": [
    {
     "data": {
      "text/plain": [
       "tensor([1., 2., 3.], dtype=torch.float16)"
      ]
     },
     "execution_count": 78,
     "metadata": {},
     "output_type": "execute_result"
    }
   ],
   "source": [
    "float_16_changer_tensor = float_32_tensor.type(torch.float16)\n",
    "float_16_changer_tensor"
   ]
  },
  {
   "cell_type": "code",
   "execution_count": 79,
   "id": "eb809bb7",
   "metadata": {
    "ExecuteTime": {
     "end_time": "2023-02-16T11:36:09.892522Z",
     "start_time": "2023-02-16T11:36:09.881612Z"
    }
   },
   "outputs": [
    {
     "data": {
      "text/plain": [
       "tensor([[0.3023, 0.6475],\n",
       "        [0.5827, 0.6946]])"
      ]
     },
     "execution_count": 79,
     "metadata": {},
     "output_type": "execute_result"
    }
   ],
   "source": [
    "random_tensor_10 = torch.rand(2,2)\n",
    "random_tensor_10"
   ]
  },
  {
   "cell_type": "code",
   "execution_count": 80,
   "id": "dc34a621",
   "metadata": {},
   "outputs": [
    {
     "name": "stdout",
     "output_type": "stream",
     "text": [
      "shape of tensor is torch.Size([2, 2]) and the type of the tensor is torch.float32\n"
     ]
    }
   ],
   "source": [
    "print(f\"shape of tensor is {random_tensor_10.shape} and the type of the tensor is {random_tensor_10.dtype}\")"
   ]
  },
  {
   "cell_type": "code",
   "execution_count": 81,
   "id": "c4d02c97",
   "metadata": {},
   "outputs": [
    {
     "data": {
      "text/plain": [
       "tensor([[[11., 12., 13.],\n",
       "         [13., 14., 15.],\n",
       "         [14., 15., 16.]]])"
      ]
     },
     "execution_count": 81,
     "metadata": {},
     "output_type": "execute_result"
    }
   ],
   "source": [
    "#manipulating tensors\n",
    "tensor_10 = tensor +10\n",
    "tensor_10"
   ]
  },
  {
   "cell_type": "code",
   "execution_count": 82,
   "id": "b7ea214e",
   "metadata": {},
   "outputs": [
    {
     "data": {
      "text/plain": [
       "tensor([[[10., 20., 30.],\n",
       "         [30., 40., 50.],\n",
       "         [40., 50., 60.]]])"
      ]
     },
     "execution_count": 82,
     "metadata": {},
     "output_type": "execute_result"
    }
   ],
   "source": [
    "tensor_mul = torch.mul(tensor,10)\n",
    "tensor_mul"
   ]
  },
  {
   "cell_type": "code",
   "execution_count": 83,
   "id": "8c3781b9",
   "metadata": {},
   "outputs": [
    {
     "data": {
      "text/plain": [
       "tensor([[[10., 20., 30.],\n",
       "         [30., 40., 50.],\n",
       "         [40., 50., 60.]]])"
      ]
     },
     "execution_count": 83,
     "metadata": {},
     "output_type": "execute_result"
    }
   ],
   "source": [
    "#the multiplication aka element multiplication can also be done\n",
    "tensor_mul = tensor * 10\n",
    "tensor_mul"
   ]
  },
  {
   "cell_type": "code",
   "execution_count": 84,
   "id": "4b5e04bf",
   "metadata": {},
   "outputs": [
    {
     "data": {
      "text/plain": [
       "tensor([[0.2031, 0.2739, 0.6760],\n",
       "        [0.1659, 0.3655, 0.8070],\n",
       "        [0.2508, 0.2413, 0.4270]])"
      ]
     },
     "execution_count": 84,
     "metadata": {},
     "output_type": "execute_result"
    }
   ],
   "source": [
    "#matrix multiplication aka dot product\n",
    "tensor_3x3 = torch.rand([3,3])\n",
    "tensor_3x3b = torch.rand([3,3])\n",
    "MM = torch.matmul(tensor_3x3,tensor_3x3b)\n",
    "MM"
   ]
  },
  {
   "cell_type": "code",
   "execution_count": 85,
   "id": "b3462674",
   "metadata": {},
   "outputs": [
    {
     "name": "stdout",
     "output_type": "stream",
     "text": [
      "tensor([0.3445, 0.2392, 0.4980])\n",
      "CPU times: user 868 µs, sys: 784 µs, total: 1.65 ms\n",
      "Wall time: 994 µs\n"
     ]
    }
   ],
   "source": [
    "%%time\n",
    " value = 0\n",
    " for i in range(len(tensor_3x3)) :\n",
    "     value += tensor_3x3[i] * tensor_3x3b[i]\n",
    "print(value)"
   ]
  },
  {
   "cell_type": "code",
   "execution_count": 86,
   "id": "2cf908be",
   "metadata": {},
   "outputs": [
    {
     "name": "stdout",
     "output_type": "stream",
     "text": [
      "CPU times: user 35 µs, sys: 4 µs, total: 39 µs\n",
      "Wall time: 39.3 µs\n"
     ]
    },
    {
     "data": {
      "text/plain": [
       "tensor([[0.2031, 0.2739, 0.6760],\n",
       "        [0.1659, 0.3655, 0.8070],\n",
       "        [0.2508, 0.2413, 0.4270]])"
      ]
     },
     "execution_count": 86,
     "metadata": {},
     "output_type": "execute_result"
    }
   ],
   "source": [
    "%%time\n",
    "MM = torch.matmul(tensor_3x3,tensor_3x3b)\n",
    "MM"
   ]
  },
  {
   "cell_type": "code",
   "execution_count": 87,
   "id": "c9e6fa2a",
   "metadata": {},
   "outputs": [
    {
     "data": {
      "text/plain": [
       "tensor([[0.0553, 0.0268, 0.1933],\n",
       "        [0.2264, 0.1729, 0.0061],\n",
       "        [0.0628, 0.0395, 0.2986]])"
      ]
     },
     "execution_count": 87,
     "metadata": {},
     "output_type": "execute_result"
    }
   ],
   "source": [
    "# another way to do matrix multiplication is via the @ operator\n",
    "tensor_3x3b * tensor_3x3"
   ]
  },
  {
   "cell_type": "code",
   "execution_count": 88,
   "id": "fceb6bc4",
   "metadata": {},
   "outputs": [
    {
     "data": {
      "text/plain": [
       "tensor([[0.2031, 0.2739, 0.6760],\n",
       "        [0.1659, 0.3655, 0.8070],\n",
       "        [0.2508, 0.2413, 0.4270]])"
      ]
     },
     "execution_count": 88,
     "metadata": {},
     "output_type": "execute_result"
    }
   ],
   "source": [
    "# another way to do matrix multiplication is via torch.mm\n",
    "torch.mm(tensor_3x3, tensor_3x3b)"
   ]
  },
  {
   "cell_type": "code",
   "execution_count": 89,
   "id": "eccf884c",
   "metadata": {},
   "outputs": [
    {
     "data": {
      "text/plain": [
       "tensor(1.)"
      ]
     },
     "execution_count": 89,
     "metadata": {},
     "output_type": "execute_result"
    }
   ],
   "source": [
    "#find the min\n",
    "tensor.min()"
   ]
  },
  {
   "cell_type": "code",
   "execution_count": 90,
   "id": "8846b38d",
   "metadata": {},
   "outputs": [
    {
     "data": {
      "text/plain": [
       "tensor(6.)"
      ]
     },
     "execution_count": 90,
     "metadata": {},
     "output_type": "execute_result"
    }
   ],
   "source": [
    "#find the max\n",
    "tensor.max()"
   ]
  },
  {
   "cell_type": "code",
   "execution_count": 91,
   "id": "2cc3d54b",
   "metadata": {},
   "outputs": [
    {
     "data": {
      "text/plain": [
       "tensor(33.)"
      ]
     },
     "execution_count": 91,
     "metadata": {},
     "output_type": "execute_result"
    }
   ],
   "source": [
    "#find the sum\n",
    "tensor.sum()"
   ]
  },
  {
   "cell_type": "code",
   "execution_count": 94,
   "id": "9d3ed819",
   "metadata": {},
   "outputs": [
    {
     "data": {
      "text/plain": [
       "tensor(3.6667)"
      ]
     },
     "execution_count": 94,
     "metadata": {},
     "output_type": "execute_result"
    }
   ],
   "source": [
    "#find the mean\n",
    "tensor.type(torch.float64)\n",
    "tensor.mean()"
   ]
  },
  {
   "cell_type": "code",
   "execution_count": 95,
   "id": "5668a03a",
   "metadata": {},
   "outputs": [
    {
     "data": {
      "text/plain": [
       "tensor(0)"
      ]
     },
     "execution_count": 95,
     "metadata": {},
     "output_type": "execute_result"
    }
   ],
   "source": [
    "#finding the position of the min element in the tensor\n",
    "tensor.argmin()"
   ]
  },
  {
   "cell_type": "code",
   "execution_count": 96,
   "id": "c69b4320",
   "metadata": {},
   "outputs": [
    {
     "data": {
      "text/plain": [
       "tensor(8)"
      ]
     },
     "execution_count": 96,
     "metadata": {},
     "output_type": "execute_result"
    }
   ],
   "source": [
    "#finding the positinio of the max element in the tensor\n",
    "tensor.argmax()"
   ]
  },
  {
   "cell_type": "code",
   "execution_count": 97,
   "id": "503206ed",
   "metadata": {},
   "outputs": [
    {
     "data": {
      "text/plain": [
       "tensor([[[1., 2., 3.],\n",
       "         [3., 4., 5.],\n",
       "         [4., 5., 6.]]])"
      ]
     },
     "execution_count": 97,
     "metadata": {},
     "output_type": "execute_result"
    }
   ],
   "source": [
    "tensor"
   ]
  },
  {
   "cell_type": "code",
   "execution_count": 177,
   "id": "80ee97a8",
   "metadata": {},
   "outputs": [
    {
     "data": {
      "text/plain": [
       "(tensor([ 3.,  4.,  5.,  6.,  7.,  8.,  9., 10., 11., 12.]), torch.Size([10]))"
      ]
     },
     "execution_count": 177,
     "metadata": {},
     "output_type": "execute_result"
    }
   ],
   "source": [
    "#reshape\n",
    "#reshapes an input tensor to a desired shape\n",
    "\n",
    "x_tensor = torch.arange(3.,13.)\n",
    "x_tensor, x_tensor.shape"
   ]
  },
  {
   "cell_type": "code",
   "execution_count": 178,
   "id": "c65f22e8",
   "metadata": {},
   "outputs": [
    {
     "data": {
      "text/plain": [
       "(tensor([[ 3.,  4.,  5.,  6.,  7.,  8.,  9., 10., 11., 12.]]),\n",
       " torch.Size([1, 10]))"
      ]
     },
     "execution_count": 178,
     "metadata": {},
     "output_type": "execute_result"
    }
   ],
   "source": [
    "x_reshaped = x_tensor.reshape(1,10) #add another dimension\n",
    "x_reshaped, x_reshaped.shape\n"
   ]
  },
  {
   "cell_type": "code",
   "execution_count": 179,
   "id": "f3e773f1",
   "metadata": {},
   "outputs": [
    {
     "data": {
      "text/plain": [
       "tensor([[ 3.,  4.,  5.,  6.,  7.],\n",
       "        [ 8.,  9., 10., 11., 12.]])"
      ]
     },
     "execution_count": 179,
     "metadata": {},
     "output_type": "execute_result"
    }
   ],
   "source": [
    "# or completely change the view. all is maters is the 5x2 = 10, jsut like the starting dimension we had.\n",
    "\n",
    "x_reshaped = x_reshaped.reshape(2,5)\n",
    "x_reshaped"
   ]
  },
  {
   "cell_type": "code",
   "execution_count": 180,
   "id": "684a0521",
   "metadata": {},
   "outputs": [
    {
     "data": {
      "text/plain": [
       "tensor([[ 3.,  4.],\n",
       "        [ 5.,  6.],\n",
       "        [ 7.,  8.],\n",
       "        [ 9., 10.],\n",
       "        [11., 12.]])"
      ]
     },
     "execution_count": 180,
     "metadata": {},
     "output_type": "execute_result"
    }
   ],
   "source": [
    "# torch.view has existed for a long time. It will return a tensor with the new shape. The returned tensor will share the underling data with the original tensor. See the documentation here.\n",
    "# On the other hand, it seems that torch.reshape has been introduced recently in version 0.4. According to the document, this method will\n",
    "# Returns a tensor with the same data and number of elements as input, but with the specified shape. When possible, the returned tensor will be a view of input. Otherwise, it will be a copy. \n",
    "# Contiguous inputs and inputs with compatible strides can be reshaped without copying, but you should not depend on the copying vs. viewing behavior.\n",
    "# It means that torch.reshape may return a copy or a view of the original tensor. You can not count on that to return a view or a copy. According to the developer:\n",
    "# if you need a copy use clone() if you need the same storage use view(). The semantics of reshape() are that it may or may not share the storage and you don't know beforehand.\n",
    "# Another difference is that reshape() can operate on both contiguous and non-contiguous tensor while view() can only operate on contiguous tensor. Also see here about the meaning of contiguous.\n",
    "\n",
    "#view\n",
    "#return a view of an input tensor of a certain shape but retain the same memory as the original tensor\n",
    "\n",
    "z_tensor = x_tensor.view(5,2)\n",
    "z_tensor\n",
    "\n",
    "# z_tensor[1] = 2\n",
    "# x_tensor\n",
    "#changes in z tensor will be also applied to x_tensor"
   ]
  },
  {
   "cell_type": "code",
   "execution_count": 181,
   "metadata": {},
   "outputs": [
    {
     "data": {
      "text/plain": [
       "(tensor([[ 3.,  4.,  5.,  6.,  7.],\n",
       "         [ 8.,  9., 10., 11., 12.]]),\n",
       " tensor([[[ 3.,  4.,  5.,  6.,  7.],\n",
       "          [ 8.,  9., 10., 11., 12.]],\n",
       " \n",
       "         [[ 3.,  4.,  5.,  6.,  7.],\n",
       "          [ 8.,  9., 10., 11., 12.]],\n",
       " \n",
       "         [[ 3.,  4.,  5.,  6.,  7.],\n",
       "          [ 8.,  9., 10., 11., 12.]]]))"
      ]
     },
     "execution_count": 181,
     "metadata": {},
     "output_type": "execute_result"
    }
   ],
   "source": [
    "#stacking\n",
    "#combine different tensors together, whether the one on top (vstack) of the other or the one next to each other (hstack)\n",
    "\n",
    "# This is vertical stacking. they will be stacked on top of each other\n",
    "x_stacked_v = torch.stack([x_reshaped, x_reshaped, x_reshaped], dim=0)\n",
    "x_reshaped, x_stacked_v"
   ]
  },
  {
   "cell_type": "code",
   "execution_count": 182,
   "id": "94c724b7",
   "metadata": {},
   "outputs": [
    {
     "data": {
      "text/plain": [
       "(tensor([[ 3.,  4.,  5.,  6.,  7.],\n",
       "         [ 8.,  9., 10., 11., 12.]]),\n",
       " tensor([[[ 3.,  4.,  5.,  6.,  7.],\n",
       "          [ 3.,  4.,  5.,  6.,  7.],\n",
       "          [ 3.,  4.,  5.,  6.,  7.]],\n",
       " \n",
       "         [[ 8.,  9., 10., 11., 12.],\n",
       "          [ 8.,  9., 10., 11., 12.],\n",
       "          [ 8.,  9., 10., 11., 12.]]]))"
      ]
     },
     "execution_count": 182,
     "metadata": {},
     "output_type": "execute_result"
    }
   ],
   "source": [
    "#this will be horizontal stacking. One next to the other one.\n",
    "x_stacked_h = torch.stack([x_reshaped,x_reshaped,x_reshaped],dim=1)\n",
    "x_reshaped, x_stacked_h"
   ]
  },
  {
   "cell_type": "code",
   "execution_count": 187,
   "id": "c0a63abc",
   "metadata": {},
   "outputs": [
    {
     "data": {
      "text/plain": [
       "(tensor([[ 3.,  4.,  5.,  6.,  7.],\n",
       "         [ 8.,  9., 10., 11., 12.]]),\n",
       " torch.Size([2, 5]),\n",
       " tensor([[ 3.,  4.,  5.,  6.,  7.],\n",
       "         [ 8.,  9., 10., 11., 12.]]))"
      ]
     },
     "execution_count": 187,
     "metadata": {},
     "output_type": "execute_result"
    }
   ],
   "source": [
    "#squeeze\n",
    "#removes all the 1 dimensions from the tensor\n",
    "x_reshaped, x_reshaped.shape, x_reshaped.squeeze() #does nothing because the dimension are [2,5]"
   ]
  },
  {
   "cell_type": "code",
   "execution_count": 192,
   "id": "c3f01223",
   "metadata": {},
   "outputs": [
    {
     "data": {
      "text/plain": [
       "(tensor([[ 3.,  4.,  5.,  6.,  7.,  8.,  9., 10., 11., 12.]]),\n",
       " torch.Size([1, 10]),\n",
       " tensor([ 3.,  4.,  5.,  6.,  7.,  8.,  9., 10., 11., 12.]),\n",
       " torch.Size([10]))"
      ]
     },
     "execution_count": 192,
     "metadata": {},
     "output_type": "execute_result"
    }
   ],
   "source": [
    "#here is an example that works after doing a reshaping to 1,10\n",
    "x_1by10 = x_reshaped.reshape(1,10)\n",
    "x_1by10_sq = x_1by10.squeeze() #rReturns a tensor with all the dimensions of input of size 1 removed.\n",
    "x_1by10, x_1by10.shape, x_1by10_sq, x_1by10_sq.shape"
   ]
  },
  {
   "cell_type": "code",
   "execution_count": 197,
   "id": "628c2f3b",
   "metadata": {},
   "outputs": [
    {
     "data": {
      "text/plain": [
       "(tensor([ 3.,  4.,  5.,  6.,  7.,  8.,  9., 10., 11., 12.]),\n",
       " torch.Size([10]),\n",
       " tensor([[ 3.],\n",
       "         [ 4.],\n",
       "         [ 5.],\n",
       "         [ 6.],\n",
       "         [ 7.],\n",
       "         [ 8.],\n",
       "         [ 9.],\n",
       "         [10.],\n",
       "         [11.],\n",
       "         [12.]]),\n",
       " torch.Size([10, 1]))"
      ]
     },
     "execution_count": 197,
     "metadata": {},
     "output_type": "execute_result"
    }
   ],
   "source": [
    "x_1by10_unsq = x_1by10_sq.unsqueeze(dim=1) #dim 1 adds just another dimension in the second location. 10 is converted to 10,1\n",
    "x_1by10_sq, x_1by10_sq.shape, x_1by10_unsq, x_1by10_unsq.shape"
   ]
  },
  {
   "cell_type": "code",
   "execution_count": 198,
   "id": "9e6202f2",
   "metadata": {},
   "outputs": [
    {
     "data": {
      "text/plain": [
       "(tensor([ 3.,  4.,  5.,  6.,  7.,  8.,  9., 10., 11., 12.]),\n",
       " torch.Size([10]),\n",
       " tensor([[ 3.,  4.,  5.,  6.,  7.,  8.,  9., 10., 11., 12.]]),\n",
       " torch.Size([1, 10]))"
      ]
     },
     "execution_count": 198,
     "metadata": {},
     "output_type": "execute_result"
    }
   ],
   "source": [
    "#unsqueeze\n",
    "#Returns a new tensor with a dimension of size one inserted at the specified position\n",
    "\n",
    "x_1by10_unsq = x_1by10_sq.unsqueeze(dim=0) #dim 0 adds just another dimension in the first location. 10 is converted to 1,10\n",
    "x_1by10_sq, x_1by10_sq.shape, x_1by10_unsq, x_1by10_unsq.shape"
   ]
  },
  {
   "cell_type": "code",
   "execution_count": 200,
   "id": "6be1d402",
   "metadata": {},
   "outputs": [],
   "source": [
    "#permute\n",
    "#return a view of the input with dimensions permuted (swapped) in a certain way \n",
    "#Returns a view of the original tensor input with its dimensions permuted.\n"
   ]
  },
  {
   "cell_type": "code",
   "execution_count": 203,
   "id": "e27d4d45",
   "metadata": {},
   "outputs": [
    {
     "data": {
      "text/plain": [
       "(torch.Size([2, 3, 5]),\n",
       " tensor([[[ 0.8812,  0.7956, -0.2768,  0.7638,  1.7137],\n",
       "          [ 1.0066,  0.0100, -0.7551, -0.8501,  0.8734],\n",
       "          [-0.6153,  0.9556, -0.5216, -0.4826, -0.6913]],\n",
       " \n",
       "         [[-0.0340, -1.9866, -1.2635, -2.0606, -0.5395],\n",
       "          [ 1.5323, -0.0614,  0.8542,  0.2042,  0.9298],\n",
       "          [-0.6971, -1.0722,  0.4480,  0.8299, -0.4543]]]))"
      ]
     },
     "execution_count": 203,
     "metadata": {},
     "output_type": "execute_result"
    }
   ],
   "source": [
    "x_prepermuted= torch.randn(2, 3, 5)\n",
    ">>> x_prepermuted.shape, x_prepermuted"
   ]
  },
  {
   "cell_type": "code",
   "execution_count": 206,
   "id": "45da64b4",
   "metadata": {},
   "outputs": [
    {
     "data": {
      "text/plain": [
       "tensor([[[ 0.8812,  1.0066, -0.6153],\n",
       "         [-0.0340,  1.5323, -0.6971]],\n",
       "\n",
       "        [[ 0.7956,  0.0100,  0.9556],\n",
       "         [-1.9866, -0.0614, -1.0722]],\n",
       "\n",
       "        [[-0.2768, -0.7551, -0.5216],\n",
       "         [-1.2635,  0.8542,  0.4480]],\n",
       "\n",
       "        [[ 0.7638, -0.8501, -0.4826],\n",
       "         [-2.0606,  0.2042,  0.8299]],\n",
       "\n",
       "        [[ 1.7137,  0.8734, -0.6913],\n",
       "         [-0.5395,  0.9298, -0.4543]]])"
      ]
     },
     "execution_count": 206,
     "metadata": {},
     "output_type": "execute_result"
    }
   ],
   "source": [
    "x_permuted = x_prepermuted.permute(2,0,1)\n",
    "x_permuted"
   ]
  },
  {
   "cell_type": "code",
   "execution_count": 213,
   "id": "76d17300",
   "metadata": {},
   "outputs": [
    {
     "data": {
      "text/plain": [
       "torch.Size([3, 224, 224])"
      ]
     },
     "execution_count": 213,
     "metadata": {},
     "output_type": "execute_result"
    }
   ],
   "source": [
    "x_original_photo = torch.rand(224,224,3) #height width and color  channels\n",
    "x_permuted_photo = torch.permute(x_original_photo,[2,0,1]) #permuted shares the same place in memory\n",
    "x_permuted_photo.shape"
   ]
  },
  {
   "cell_type": "code",
   "execution_count": 215,
   "id": "a900a4e3",
   "metadata": {},
   "outputs": [
    {
     "data": {
      "text/plain": [
       "(tensor([[[1., 2., 3.],\n",
       "          [4., 5., 6.],\n",
       "          [7., 8., 9.]]]),\n",
       " torch.Size([1, 3, 3]))"
      ]
     },
     "execution_count": 215,
     "metadata": {},
     "output_type": "execute_result"
    }
   ],
   "source": [
    "#indexing \n",
    "y = torch.arange(1.,10.).reshape(1,3,3)\n",
    "y, y.shape"
   ]
  },
  {
   "cell_type": "code",
   "execution_count": 216,
   "id": "4bc472e8",
   "metadata": {},
   "outputs": [
    {
     "data": {
      "text/plain": [
       "tensor([[1., 2., 3.],\n",
       "        [4., 5., 6.],\n",
       "        [7., 8., 9.]])"
      ]
     },
     "execution_count": 216,
     "metadata": {},
     "output_type": "execute_result"
    }
   ],
   "source": [
    "#lets index on the first dimension\n",
    "y[0]"
   ]
  },
  {
   "cell_type": "code",
   "execution_count": 217,
   "id": "0ddf9b2c",
   "metadata": {},
   "outputs": [
    {
     "data": {
      "text/plain": [
       "tensor([1., 2., 3.])"
      ]
     },
     "execution_count": 217,
     "metadata": {},
     "output_type": "execute_result"
    }
   ],
   "source": [
    "#index on the second dime\n",
    "y[0][0]"
   ]
  },
  {
   "cell_type": "code",
   "execution_count": 219,
   "id": "e991ff39",
   "metadata": {},
   "outputs": [
    {
     "data": {
      "text/plain": [
       "tensor([[1., 2., 3.]])"
      ]
     },
     "execution_count": 219,
     "metadata": {},
     "output_type": "execute_result"
    }
   ],
   "source": [
    "#we can also use : to target different dimensions\n",
    "y[:,0]"
   ]
  },
  {
   "cell_type": "code",
   "execution_count": 221,
   "id": "433e79ad",
   "metadata": {},
   "outputs": [
    {
     "data": {
      "text/plain": [
       "tensor([[2., 5., 8.]])"
      ]
     },
     "execution_count": 221,
     "metadata": {},
     "output_type": "execute_result"
    }
   ],
   "source": [
    "#we want all the elemnts of the 0th and 1 dimension but only index 1 of the second dimension\n",
    "y[:,:,1]"
   ]
  },
  {
   "cell_type": "code",
   "execution_count": null,
   "id": "f1de3f18",
   "metadata": {},
   "outputs": [],
   "source": []
  }
 ],
 "metadata": {
  "kernelspec": {
   "display_name": "dfl_test",
   "language": "python",
   "name": "python3"
  },
  "language_info": {
   "codemirror_mode": {
    "name": "ipython",
    "version": 3
   },
   "file_extension": ".py",
   "mimetype": "text/x-python",
   "name": "python",
   "nbconvert_exporter": "python",
   "pygments_lexer": "ipython3",
   "version": "3.8.13"
  },
  "vscode": {
   "interpreter": {
    "hash": "e07a02acc2b817d40ec1ea3637a785a752256166113a94157a19014e19a8bdfa"
   }
  }
 },
 "nbformat": 4,
 "nbformat_minor": 5
}
