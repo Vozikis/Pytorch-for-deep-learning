{
 "cells": [
  {
   "cell_type": "code",
   "execution_count": 3,
   "id": "32f128fc",
   "metadata": {
    "ExecuteTime": {
     "end_time": "2023-02-14T21:27:19.978036Z",
     "start_time": "2023-02-14T21:27:19.111711Z"
    }
   },
   "outputs": [],
   "source": [
    "import torch\n",
    "import pandas as pd\n",
    "import numpy as np\n",
    "import matplotlib.pyplot as plt"
   ]
  },
  {
   "cell_type": "code",
   "execution_count": 2,
   "id": "2298d078",
   "metadata": {
    "ExecuteTime": {
     "end_time": "2023-02-14T21:26:28.093297Z",
     "start_time": "2023-02-14T21:26:28.083524Z"
    }
   },
   "outputs": [
    {
     "name": "stdout",
     "output_type": "stream",
     "text": [
      "2.0.0.dev20230207\n"
     ]
    }
   ],
   "source": [
    "print (torch.__version__)"
   ]
  },
  {
   "cell_type": "code",
   "execution_count": 7,
   "id": "a9e61719",
   "metadata": {
    "ExecuteTime": {
     "end_time": "2023-02-14T21:31:53.370265Z",
     "start_time": "2023-02-14T21:31:53.347455Z"
    }
   },
   "outputs": [
    {
     "data": {
      "text/plain": [
       "tensor(7)"
      ]
     },
     "execution_count": 7,
     "metadata": {},
     "output_type": "execute_result"
    }
   ],
   "source": [
    "#scalar\n",
    "scalar = torch.tensor(7)\n",
    "scalar"
   ]
  },
  {
   "cell_type": "code",
   "execution_count": 35,
   "id": "2ed128be",
   "metadata": {
    "ExecuteTime": {
     "end_time": "2023-02-15T21:47:03.892741Z",
     "start_time": "2023-02-15T21:47:03.883121Z"
    }
   },
   "outputs": [
    {
     "data": {
      "text/plain": [
       "0"
      ]
     },
     "execution_count": 35,
     "metadata": {},
     "output_type": "execute_result"
    }
   ],
   "source": [
    "#show the dimensions of the scalar\n",
    "#shwos the number of dimensions\n",
    "scalar.ndim"
   ]
  },
  {
   "cell_type": "code",
   "execution_count": 11,
   "id": "01eff2d4",
   "metadata": {
    "ExecuteTime": {
     "end_time": "2023-02-14T21:35:06.283716Z",
     "start_time": "2023-02-14T21:35:06.274823Z"
    }
   },
   "outputs": [
    {
     "data": {
      "text/plain": [
       "7"
      ]
     },
     "execution_count": 11,
     "metadata": {},
     "output_type": "execute_result"
    }
   ],
   "source": [
    "#method that we can use to get the item of the scalar\n",
    "scalar.item()"
   ]
  },
  {
   "cell_type": "code",
   "execution_count": 15,
   "id": "0534b20b",
   "metadata": {
    "ExecuteTime": {
     "end_time": "2023-02-14T21:36:38.836828Z",
     "start_time": "2023-02-14T21:36:38.825886Z"
    }
   },
   "outputs": [
    {
     "data": {
      "text/plain": [
       "1"
      ]
     },
     "execution_count": 15,
     "metadata": {},
     "output_type": "execute_result"
    }
   ],
   "source": [
    "#create a pytorch vector\n",
    "\n",
    "vector = torch.tensor([7,7])\n",
    "vector.ndim\n"
   ]
  },
  {
   "cell_type": "code",
   "execution_count": 16,
   "id": "23ec4c7c",
   "metadata": {
    "ExecuteTime": {
     "end_time": "2023-02-14T21:36:39.068413Z",
     "start_time": "2023-02-14T21:36:39.058385Z"
    }
   },
   "outputs": [
    {
     "data": {
      "text/plain": [
       "torch.Size([2])"
      ]
     },
     "execution_count": 16,
     "metadata": {},
     "output_type": "execute_result"
    }
   ],
   "source": [
    "vector.shape"
   ]
  },
  {
   "cell_type": "code",
   "execution_count": 19,
   "id": "09750b04",
   "metadata": {
    "ExecuteTime": {
     "end_time": "2023-02-14T21:38:09.764265Z",
     "start_time": "2023-02-14T21:38:09.748827Z"
    }
   },
   "outputs": [
    {
     "data": {
      "text/plain": [
       "tensor([[2, 3],\n",
       "        [4, 5]])"
      ]
     },
     "execution_count": 19,
     "metadata": {},
     "output_type": "execute_result"
    }
   ],
   "source": [
    "#create a matrix\n",
    "matrix = torch.tensor([[2,3],\n",
    "                       [4,5]])\n",
    "matrix"
   ]
  },
  {
   "cell_type": "code",
   "execution_count": 20,
   "id": "1717f87b",
   "metadata": {
    "ExecuteTime": {
     "end_time": "2023-02-14T21:38:18.791084Z",
     "start_time": "2023-02-14T21:38:18.781509Z"
    }
   },
   "outputs": [
    {
     "data": {
      "text/plain": [
       "torch.Size([2, 2])"
      ]
     },
     "execution_count": 20,
     "metadata": {},
     "output_type": "execute_result"
    }
   ],
   "source": [
    "matrix.shape"
   ]
  },
  {
   "cell_type": "code",
   "execution_count": 22,
   "id": "42146b4f",
   "metadata": {
    "ExecuteTime": {
     "end_time": "2023-02-14T21:39:14.831464Z",
     "start_time": "2023-02-14T21:39:14.821254Z"
    }
   },
   "outputs": [
    {
     "data": {
      "text/plain": [
       "2"
      ]
     },
     "execution_count": 22,
     "metadata": {},
     "output_type": "execute_result"
    }
   ],
   "source": [
    "matrix.ndim"
   ]
  },
  {
   "cell_type": "code",
   "execution_count": 23,
   "id": "32a3734c",
   "metadata": {
    "ExecuteTime": {
     "end_time": "2023-02-14T21:39:26.275129Z",
     "start_time": "2023-02-14T21:39:26.264473Z"
    }
   },
   "outputs": [
    {
     "data": {
      "text/plain": [
       "tensor([4, 5])"
      ]
     },
     "execution_count": 23,
     "metadata": {},
     "output_type": "execute_result"
    }
   ],
   "source": [
    "#what does ndim do\n",
    "matrix[1]"
   ]
  },
  {
   "cell_type": "code",
   "execution_count": 26,
   "id": "8ec979a6",
   "metadata": {
    "ExecuteTime": {
     "end_time": "2023-02-14T21:41:46.884242Z",
     "start_time": "2023-02-14T21:41:46.870728Z"
    }
   },
   "outputs": [
    {
     "data": {
      "text/plain": [
       "tensor([[[1, 2, 3],\n",
       "         [3, 4, 5],\n",
       "         [4, 5, 6]]])"
      ]
     },
     "execution_count": 26,
     "metadata": {},
     "output_type": "execute_result"
    }
   ],
   "source": [
    "#tensor\n",
    "tensor = torch.tensor([[[1,2,3],\n",
    "                        [3,4,5],\n",
    "                        [4,5,6]]])\n",
    "tensor"
   ]
  },
  {
   "cell_type": "code",
   "execution_count": 27,
   "id": "9572f792",
   "metadata": {
    "ExecuteTime": {
     "end_time": "2023-02-14T21:41:53.557069Z",
     "start_time": "2023-02-14T21:41:53.546570Z"
    }
   },
   "outputs": [
    {
     "data": {
      "text/plain": [
       "3"
      ]
     },
     "execution_count": 27,
     "metadata": {},
     "output_type": "execute_result"
    }
   ],
   "source": [
    "tensor.ndim"
   ]
  },
  {
   "cell_type": "code",
   "execution_count": 29,
   "id": "f566ce2d",
   "metadata": {
    "ExecuteTime": {
     "end_time": "2023-02-14T21:43:18.229203Z",
     "start_time": "2023-02-14T21:43:18.219655Z"
    }
   },
   "outputs": [
    {
     "data": {
      "text/plain": [
       "torch.Size([1, 3, 3])"
      ]
     },
     "execution_count": 29,
     "metadata": {},
     "output_type": "execute_result"
    }
   ],
   "source": [
    "tensor.shape\n",
    "#torch.Size([1, 3, 3]) we have a 1 tensor with a 3x3 matrix"
   ]
  },
  {
   "cell_type": "code",
   "execution_count": 34,
   "id": "a7e9d066",
   "metadata": {
    "ExecuteTime": {
     "end_time": "2023-02-15T21:45:04.468166Z",
     "start_time": "2023-02-15T21:45:04.423037Z"
    }
   },
   "outputs": [
    {
     "data": {
      "text/plain": [
       "tensor([[0.5756, 0.3179, 0.2749, 0.7363],\n",
       "        [0.0271, 0.0180, 0.3815, 0.5529],\n",
       "        [0.0647, 0.4191, 0.3144, 0.3843]])"
      ]
     },
     "execution_count": 34,
     "metadata": {},
     "output_type": "execute_result"
    }
   ],
   "source": [
    "###random Tensors\n",
    "#Create a random tensor of (3,4)\n",
    "rTensor = torch.rand(3,4)\n",
    "rTensor"
   ]
  },
  {
   "cell_type": "code",
   "execution_count": 39,
   "id": "7242fa0c",
   "metadata": {
    "ExecuteTime": {
     "end_time": "2023-02-15T21:50:27.417222Z",
     "start_time": "2023-02-15T21:50:27.407466Z"
    }
   },
   "outputs": [
    {
     "data": {
      "text/plain": [
       "tensor([[0., 0., 0., 0.],\n",
       "        [0., 0., 0., 0.],\n",
       "        [0., 0., 0., 0.]])"
      ]
     },
     "execution_count": 39,
     "metadata": {},
     "output_type": "execute_result"
    }
   ],
   "source": [
    "#create a 3,4 matrix with 0s\n",
    "zeroTensor = (torch.zeros(3,4))\n",
    "zeroTensor"
   ]
  },
  {
   "cell_type": "code",
   "execution_count": null,
   "id": "2e8493eb",
   "metadata": {},
   "outputs": [],
   "source": []
  }
 ],
 "metadata": {
  "kernelspec": {
   "display_name": "Python 3 (ipykernel)",
   "language": "python",
   "name": "python3"
  },
  "language_info": {
   "codemirror_mode": {
    "name": "ipython",
    "version": 3
   },
   "file_extension": ".py",
   "mimetype": "text/x-python",
   "name": "python",
   "nbconvert_exporter": "python",
   "pygments_lexer": "ipython3",
   "version": "3.8.13"
  }
 },
 "nbformat": 4,
 "nbformat_minor": 5
}
