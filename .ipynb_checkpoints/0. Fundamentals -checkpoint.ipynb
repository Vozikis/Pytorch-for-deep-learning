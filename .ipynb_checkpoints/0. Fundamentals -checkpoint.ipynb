{
 "cells": [
  {
   "cell_type": "code",
   "execution_count": 3,
   "id": "3b9ae8bf",
   "metadata": {
    "ExecuteTime": {
     "end_time": "2023-02-14T21:27:19.978036Z",
     "start_time": "2023-02-14T21:27:19.111711Z"
    }
   },
   "outputs": [],
   "source": [
    "import torch\n",
    "import pandas as pd\n",
    "import numpy as np\n",
    "import matplotlib.pyplot as plt"
   ]
  },
  {
   "cell_type": "code",
   "execution_count": 2,
   "id": "23f3aeff",
   "metadata": {
    "ExecuteTime": {
     "end_time": "2023-02-14T21:26:28.093297Z",
     "start_time": "2023-02-14T21:26:28.083524Z"
    }
   },
   "outputs": [
    {
     "name": "stdout",
     "output_type": "stream",
     "text": [
      "2.0.0.dev20230207\n"
     ]
    }
   ],
   "source": [
    "print (torch.__version__)"
   ]
  },
  {
   "cell_type": "code",
   "execution_count": 7,
   "id": "ba516589",
   "metadata": {
    "ExecuteTime": {
     "end_time": "2023-02-14T21:31:53.370265Z",
     "start_time": "2023-02-14T21:31:53.347455Z"
    }
   },
   "outputs": [
    {
     "data": {
      "text/plain": [
       "tensor(7)"
      ]
     },
     "execution_count": 7,
     "metadata": {},
     "output_type": "execute_result"
    }
   ],
   "source": [
    "#scalar\n",
    "scalar = torch.tensor(7)\n",
    "scalar"
   ]
  },
  {
   "cell_type": "code",
   "execution_count": 8,
   "id": "dfa15582",
   "metadata": {
    "ExecuteTime": {
     "end_time": "2023-02-14T21:33:32.692212Z",
     "start_time": "2023-02-14T21:33:32.682012Z"
    }
   },
   "outputs": [
    {
     "data": {
      "text/plain": [
       "0"
      ]
     },
     "execution_count": 8,
     "metadata": {},
     "output_type": "execute_result"
    }
   ],
   "source": [
    "#show the dimensions of the scalar\n",
    "scalar.ndim"
   ]
  },
  {
   "cell_type": "code",
   "execution_count": 11,
   "id": "335aa4ae",
   "metadata": {
    "ExecuteTime": {
     "end_time": "2023-02-14T21:35:06.283716Z",
     "start_time": "2023-02-14T21:35:06.274823Z"
    }
   },
   "outputs": [
    {
     "data": {
      "text/plain": [
       "7"
      ]
     },
     "execution_count": 11,
     "metadata": {},
     "output_type": "execute_result"
    }
   ],
   "source": [
    "#method that we can use to get the item of the scalar\n",
    "scalar.item()"
   ]
  },
  {
   "cell_type": "code",
   "execution_count": 15,
   "id": "77815cca",
   "metadata": {
    "ExecuteTime": {
     "end_time": "2023-02-14T21:36:38.836828Z",
     "start_time": "2023-02-14T21:36:38.825886Z"
    }
   },
   "outputs": [
    {
     "data": {
      "text/plain": [
       "1"
      ]
     },
     "execution_count": 15,
     "metadata": {},
     "output_type": "execute_result"
    }
   ],
   "source": [
    "#create a pytorch vector\n",
    "\n",
    "vector = torch.tensor([7,7])\n",
    "vector.ndim\n"
   ]
  },
  {
   "cell_type": "code",
   "execution_count": 16,
   "id": "f2e9ed4a",
   "metadata": {
    "ExecuteTime": {
     "end_time": "2023-02-14T21:36:39.068413Z",
     "start_time": "2023-02-14T21:36:39.058385Z"
    }
   },
   "outputs": [
    {
     "data": {
      "text/plain": [
       "torch.Size([2])"
      ]
     },
     "execution_count": 16,
     "metadata": {},
     "output_type": "execute_result"
    }
   ],
   "source": [
    "vector.shape"
   ]
  },
  {
   "cell_type": "code",
   "execution_count": 19,
   "id": "3bed9f59",
   "metadata": {
    "ExecuteTime": {
     "end_time": "2023-02-14T21:38:09.764265Z",
     "start_time": "2023-02-14T21:38:09.748827Z"
    }
   },
   "outputs": [
    {
     "data": {
      "text/plain": [
       "tensor([[2, 3],\n",
       "        [4, 5]])"
      ]
     },
     "execution_count": 19,
     "metadata": {},
     "output_type": "execute_result"
    }
   ],
   "source": [
    "#create a matrix\n",
    "matrix = torch.tensor([[2,3],\n",
    "                       [4,5]])\n",
    "matrix"
   ]
  },
  {
   "cell_type": "code",
   "execution_count": 20,
   "id": "89dc9b76",
   "metadata": {
    "ExecuteTime": {
     "end_time": "2023-02-14T21:38:18.791084Z",
     "start_time": "2023-02-14T21:38:18.781509Z"
    }
   },
   "outputs": [
    {
     "data": {
      "text/plain": [
       "torch.Size([2, 2])"
      ]
     },
     "execution_count": 20,
     "metadata": {},
     "output_type": "execute_result"
    }
   ],
   "source": [
    "matrix.shape"
   ]
  },
  {
   "cell_type": "code",
   "execution_count": 22,
   "id": "734fd0ea",
   "metadata": {
    "ExecuteTime": {
     "end_time": "2023-02-14T21:39:14.831464Z",
     "start_time": "2023-02-14T21:39:14.821254Z"
    }
   },
   "outputs": [
    {
     "data": {
      "text/plain": [
       "2"
      ]
     },
     "execution_count": 22,
     "metadata": {},
     "output_type": "execute_result"
    }
   ],
   "source": [
    "matrix.ndim"
   ]
  },
  {
   "cell_type": "code",
   "execution_count": 23,
   "id": "0a16d9ee",
   "metadata": {
    "ExecuteTime": {
     "end_time": "2023-02-14T21:39:26.275129Z",
     "start_time": "2023-02-14T21:39:26.264473Z"
    }
   },
   "outputs": [
    {
     "data": {
      "text/plain": [
       "tensor([4, 5])"
      ]
     },
     "execution_count": 23,
     "metadata": {},
     "output_type": "execute_result"
    }
   ],
   "source": [
    "#what does ndim do\n",
    "matrix[1]"
   ]
  },
  {
   "cell_type": "code",
   "execution_count": null,
   "id": "3ca991ec",
   "metadata": {},
   "outputs": [],
   "source": []
  }
 ],
 "metadata": {
  "kernelspec": {
   "display_name": "Python 3 (ipykernel)",
   "language": "python",
   "name": "python3"
  },
  "language_info": {
   "codemirror_mode": {
    "name": "ipython",
    "version": 3
   },
   "file_extension": ".py",
   "mimetype": "text/x-python",
   "name": "python",
   "nbconvert_exporter": "python",
   "pygments_lexer": "ipython3",
   "version": "3.8.13"
  }
 },
 "nbformat": 4,
 "nbformat_minor": 5
}
